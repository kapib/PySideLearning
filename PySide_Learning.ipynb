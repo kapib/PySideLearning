{
 "cells": [
  {
   "cell_type": "markdown",
   "metadata": {
    "toc": "true"
   },
   "source": [
    "# Table of Contents\n",
    " <p><div class=\"lev2\"><a href=\"#PySide-参考資料\"><span class=\"toc-item-num\">0.1&nbsp;&nbsp;</span>PySide 参考資料</a></div><div class=\"lev1\"><a href=\"#First-Programs-in-PySide\"><span class=\"toc-item-num\">1&nbsp;&nbsp;</span>First Programs in PySide</a></div><div class=\"lev2\"><a href=\"#&quot;Simple&quot;というwindowタイトルのみのアプリを作成せよ\"><span class=\"toc-item-num\">1.1&nbsp;&nbsp;</span>\"Simple\"というwindowタイトルのみのアプリを作成せよ</a></div><div class=\"lev3\"><a href=\"#Explanation\"><span class=\"toc-item-num\">1.1.1&nbsp;&nbsp;</span>Explanation</a></div><div class=\"lev2\"><a href=\"#HelloPySide!のラベルのみのアプリを作成せよ\"><span class=\"toc-item-num\">1.2&nbsp;&nbsp;</span>HelloPySide!のラベルのみのアプリを作成せよ</a></div><div class=\"lev3\"><a href=\"#Explanation\"><span class=\"toc-item-num\">1.2.1&nbsp;&nbsp;</span>Explanation</a></div><div class=\"lev2\"><a href=\"#HelloPyside!のラベルのみのアプリを整えよ\"><span class=\"toc-item-num\">1.3&nbsp;&nbsp;</span>HelloPyside!のラベルのみのアプリを整えよ</a></div><div class=\"lev2\"><a href=\"#OOPでiconを表示するsimpleなアプリを作成せよ\"><span class=\"toc-item-num\">1.4&nbsp;&nbsp;</span>OOPでiconを表示するsimpleなアプリを作成せよ</a></div><div class=\"lev3\"><a href=\"#Explanation\"><span class=\"toc-item-num\">1.4.1&nbsp;&nbsp;</span>Explanation</a></div><div class=\"lev2\"><a href=\"#Buttonが一つあるアプリを作れ\"><span class=\"toc-item-num\">1.5&nbsp;&nbsp;</span>Buttonが一つあるアプリを作れ</a></div><div class=\"lev2\"><a href=\"#widgetにマウス合わせると注釈出す機能をつけよう(Showing-a-tooltip)\"><span class=\"toc-item-num\">1.6&nbsp;&nbsp;</span>widgetにマウス合わせると注釈出す機能をつけよう(Showing a tooltip)</a></div><div class=\"lev2\"><a href=\"#Closing-a-window\"><span class=\"toc-item-num\">1.7&nbsp;&nbsp;</span>Closing a window</a></div><div class=\"lev2\"><a href=\"#アプリ終了の際にMessageBoxを表示して意思確認せよ\"><span class=\"toc-item-num\">1.8&nbsp;&nbsp;</span>アプリ終了の際にMessageBoxを表示して意思確認せよ</a></div><div class=\"lev3\"><a href=\"#Explanation\"><span class=\"toc-item-num\">1.8.1&nbsp;&nbsp;</span>Explanation</a></div><div class=\"lev2\"><a href=\"#Centering-window-on-the-screen\"><span class=\"toc-item-num\">1.9&nbsp;&nbsp;</span>Centering window on the screen</a></div><div class=\"lev1\"><a href=\"#Menus-and-toolbars\"><span class=\"toc-item-num\">2&nbsp;&nbsp;</span>Menus and toolbars</a></div><div class=\"lev2\"><a href=\"#Status-bar\"><span class=\"toc-item-num\">2.1&nbsp;&nbsp;</span>Status bar</a></div><div class=\"lev2\"><a href=\"#Menubar\"><span class=\"toc-item-num\">2.2&nbsp;&nbsp;</span>Menubar</a></div><div class=\"lev2\"><a href=\"#Set-the-toolbar-which-has-an-exit-action,-closes-the-application.\"><span class=\"toc-item-num\">2.3&nbsp;&nbsp;</span>Set the toolbar which has an exit action, closes the application.</a></div><div class=\"lev1\"><a href=\"#Layout-management-in-PySide\"><span class=\"toc-item-num\">3&nbsp;&nbsp;</span>Layout management in PySide</a></div><div class=\"lev2\"><a href=\"#Absolute-positioning\"><span class=\"toc-item-num\">3.1&nbsp;&nbsp;</span>Absolute positioning</a></div><div class=\"lev2\"><a href=\"#Box-layout\"><span class=\"toc-item-num\">3.2&nbsp;&nbsp;</span>Box layout</a></div><div class=\"lev2\"><a href=\"#Grid-Layout\"><span class=\"toc-item-num\">3.3&nbsp;&nbsp;</span>Grid Layout</a></div><div class=\"lev3\"><a href=\"#Basic-grid-layout\"><span class=\"toc-item-num\">3.3.1&nbsp;&nbsp;</span>Basic grid layout</a></div><div class=\"lev3\"><a href=\"#We-can-provide-row-span-and-column-span-of-the-widget\"><span class=\"toc-item-num\">3.3.2&nbsp;&nbsp;</span>We can provide row span and column span of the widget</a></div><div class=\"lev1\"><a href=\"#Signal-and-Slot\"><span class=\"toc-item-num\">4&nbsp;&nbsp;</span>Signal and Slot</a></div><div class=\"lev2\"><a href=\"#Create-a-simple-key-event-hander-widget\"><span class=\"toc-item-num\">4.1&nbsp;&nbsp;</span>Create a simple key event hander widget</a></div><div class=\"lev2\"><a href=\"#Create-a-simple-app-which-have-two-bottun-with-Event-sender\"><span class=\"toc-item-num\">4.2&nbsp;&nbsp;</span>Create a simple app which have two bottun with Event sender</a></div><div class=\"lev2\"><a href=\"#Emitting-Signals\"><span class=\"toc-item-num\">4.3&nbsp;&nbsp;</span>Emitting Signals</a></div><div class=\"lev1\"><a href=\"#Dialogs\"><span class=\"toc-item-num\">5&nbsp;&nbsp;</span>Dialogs</a></div><div class=\"lev2\"><a href=\"#create-an-app-with-an-input-dialog\"><span class=\"toc-item-num\">5.1&nbsp;&nbsp;</span>create an app with an input dialog</a></div><div class=\"lev2\"><a href=\"#File-dialog\"><span class=\"toc-item-num\">5.2&nbsp;&nbsp;</span>File dialog</a></div><div class=\"lev1\"><a href=\"#PySide-Widgets\"><span class=\"toc-item-num\">6&nbsp;&nbsp;</span>PySide Widgets</a></div><div class=\"lev2\"><a href=\"#QtGui.QCheckBox\"><span class=\"toc-item-num\">6.1&nbsp;&nbsp;</span>QtGui.QCheckBox</a></div><div class=\"lev2\"><a href=\"#ToggleButton\"><span class=\"toc-item-num\">6.2&nbsp;&nbsp;</span>ToggleButton</a></div><div class=\"lev2\"><a href=\"#QtGui.QSlider\"><span class=\"toc-item-num\">6.3&nbsp;&nbsp;</span>QtGui.QSlider</a></div><div class=\"lev2\"><a href=\"#QtGui.QCalendarWidget\"><span class=\"toc-item-num\">6.4&nbsp;&nbsp;</span>QtGui.QCalendarWidget</a></div><div class=\"lev2\"><a href=\"#QtGui.QPixmap\"><span class=\"toc-item-num\">6.5&nbsp;&nbsp;</span>QtGui.QPixmap</a></div><div class=\"lev2\"><a href=\"#Line-Editor\"><span class=\"toc-item-num\">6.6&nbsp;&nbsp;</span>Line Editor</a></div>"
   ]
  },
  {
   "cell_type": "markdown",
   "metadata": {},
   "source": [
    "## PySide 参考資料\n",
    "* [公式のdoc](https://wiki.qt.io/PySide)\n",
    "    * [tutorial集](https://wiki.qt.io/PySide_Tutorials)\n",
    "* [zet codeのtutorial](http://zetcode.com/gui/pysidetutorial/)\n",
    "* [FreeCADのpage](http://www.freecadweb.org/wiki/index.php?title=PySide_Beginner_Examples)"
   ]
  },
  {
   "cell_type": "markdown",
   "metadata": {},
   "source": [
    "jupyter内でpysideコード実行するときは、QApplicationの作成するとき以下のコードを実行する\n",
    "```python\n",
    "# Create the main application\n",
    "myApp=QApplication.instance() # checks if QApplication already exists \n",
    "if not myApp: # create QApplication if it doesnt exist \n",
    "    myApp = QApplication(sys.argv)\n",
    "```"
   ]
  },
  {
   "cell_type": "markdown",
   "metadata": {},
   "source": [
    "# First Programs in PySide\n",
    "* [zet code tutoria](http://zetcode.com/gui/pysidetutorial/firstprograms/)\n",
    "* PySide GUI Application Development (book)"
   ]
  },
  {
   "cell_type": "markdown",
   "metadata": {},
   "source": [
    "## \"Simple\"というwindowタイトルのみのアプリを作成せよ"
   ]
  },
  {
   "cell_type": "markdown",
   "metadata": {
    "collapsed": true
   },
   "source": [
    "* import module \n",
    "* making a instance\n",
    "* check if QApprication already exists\n",
    "* make gui window\n",
    "* put title\n",
    "* show window\n",
    "* exit "
   ]
  },
  {
   "cell_type": "code",
   "execution_count": 11,
   "metadata": {
    "collapsed": false
   },
   "outputs": [
    {
     "ename": "SystemExit",
     "evalue": "0",
     "output_type": "error",
     "traceback": [
      "An exception has occurred, use %tb to see the full traceback.\n",
      "\u001b[0;31mSystemExit\u001b[0m\u001b[0;31m:\u001b[0m 0\n"
     ]
    },
    {
     "name": "stderr",
     "output_type": "stream",
     "text": [
      "To exit: use 'exit', 'quit', or Ctrl-D.\n"
     ]
    }
   ],
   "source": [
    "import sys\n",
    "from PySide import QtGui \n",
    "\n",
    "if __name__ == '__main__':\n",
    "    myApp = QtGui.QApplication.instance() # checks if QApplication already exists \n",
    "    \n",
    "    if not myApp: \n",
    "        #The sys.argv parameter is a list of arguments from the command line. \n",
    "        myApp = QtGui.QApplication(sys.argv)\n",
    "\n",
    "    wid = QtGui.QWidget()\n",
    "#     wid.resize(250, 150) これないともっと大きなサイズになっていた\n",
    "    wid.setWindowTitle('Simple')\n",
    "    wid.show()\n",
    "\n",
    "    sys.exit(myApp.exec_())"
   ]
  },
  {
   "cell_type": "markdown",
   "metadata": {},
   "source": [
    "### Explanation\n",
    "\n",
    "1. Create an application object  \n",
    "Every PySide application must create an application object. The application object is located in the QtGui module. The sys.argv parameter is a list of arguments from the command line. Python scripts can be run from the shell. It is a way, how we can control the startup of our scripts.  \n",
    "\n",
    "2. Create a window object  \n",
    "The QWidget widget is the base class of all user interface objects in PySide. We provide the default constructor for QWidget. The default constructor has no parent. A widget with no parent is called a window.\n",
    "\n",
    "3. Resize the Window and set the title for our window  \n",
    "\n",
    "4. Displays the widget on the screen.\n",
    "\n",
    "5. Enter the mainloop of the application.   \n",
    "The event handling starts from this point. The mainloop receives events from the window system and dispatches them to the application widgets. The mainloop ends if we call the exit() method or the main widget is destroyed. The sys.exit() method ensures a clean exit. The environment will be informed, how the application ended.  \n",
    "You wonder why the exec_() method has an underscore? Everything has a meaning. This is obviously because the exec is a Python keyword. And thus, exec_() was used instead."
   ]
  },
  {
   "cell_type": "markdown",
   "metadata": {},
   "source": [
    "## HelloPySide!のラベルのみのアプリを作成せよ"
   ]
  },
  {
   "cell_type": "markdown",
   "metadata": {},
   "source": [
    "* import module \n",
    "* create an application instance\n",
    "* check if QApprication already exists\n",
    "* create a window object (Label)\n",
    "* set label text\n",
    "* display the widget\n",
    "* exit "
   ]
  },
  {
   "cell_type": "code",
   "execution_count": 6,
   "metadata": {
    "collapsed": false
   },
   "outputs": [
    {
     "ename": "SystemExit",
     "evalue": "",
     "output_type": "error",
     "traceback": [
      "An exception has occurred, use %tb to see the full traceback.\n",
      "\u001b[0;31mSystemExit\u001b[0m\n"
     ]
    },
    {
     "name": "stderr",
     "output_type": "stream",
     "text": [
      "To exit: use 'exit', 'quit', or Ctrl-D.\n"
     ]
    }
   ],
   "source": [
    "import sys\n",
    "from PySide.QtGui import QApplication, QLabel\n",
    "\n",
    "if __name__ == '__main__':\n",
    "\n",
    "    myApp=QApplication.instance() # checks if QApplication already exists \n",
    "    \n",
    "    if not myApp: \n",
    "        myApp = QApplication(sys.argv)\n",
    "    \n",
    "    appLabel = QLabel() # Create a Label \n",
    "    appLabel.setText(\"Hello, PySide!\")\n",
    "\n",
    "    appLabel.show() # Show the Label\n",
    "\n",
    "    myApp.exec_() # Execute the Application and Exit\n",
    "    sys.exit()"
   ]
  },
  {
   "cell_type": "markdown",
   "metadata": {},
   "source": [
    "### Explanation\n",
    "\n",
    "1. Create an application object\n",
    "    * In the main program, we are creating an instance of the QApplication class.   \n",
    "    * QApplication creates the main event loop, where all events from the window system and other sources are processed and dispatched.   \n",
    "    * This class is responsible for an application's initialization, finalization, and session management.   \n",
    "    * It also handles the events and sets the application's look and feel.   \n",
    "    * It parses the command-line arguments (sys.argv) and sets its internal state, accordingly.   \n",
    "    * There should be only one QApplication object in the whole application even though the application creates one or many windows at any point in time.  \n",
    "\n",
    "2. Create a window object  \n",
    "Once the main application instance is created, we move on by creating a QLabel instance that will display the required message on the screen.  \n",
    "QLabel is a base class that is inherited from the QFrame super class whose parent class is QWidget\n",
    "\n",
    "3. Resize the Window and set the title for our window  \n",
    "The two functions, setWindowTitle and setGeometry, are functions of QWidget, which are inherited by the QLabel class. These are used to set the title of the window and position it on the screen.\n",
    "\n",
    "4. Displays the widget on the screen.\n",
    "\n",
    "5. Enter the mainloop of the application.   \n",
    "enter the Qt main loop and start executing the Qt code. In reality, this is where the label will be shown to the user \n",
    "\n",
    "6. exit the program\n"
   ]
  },
  {
   "cell_type": "markdown",
   "metadata": {},
   "source": [
    "## HelloPyside!のラベルのみのアプリを整えよ\n",
    "* ラベルの文字をcenteringせよ\n",
    "* windowの左上の位置を100,100とし、windowサイズを300,200とせよ\n",
    "* windowのタイトルを'My Second Application'とつけよ"
   ]
  },
  {
   "cell_type": "code",
   "execution_count": 3,
   "metadata": {
    "collapsed": false
   },
   "outputs": [
    {
     "ename": "ImportError",
     "evalue": "cannot import name QApplication",
     "output_type": "error",
     "traceback": [
      "\u001b[0;31m---------------------------------------------------------------------------\u001b[0m",
      "\u001b[0;31mImportError\u001b[0m                               Traceback (most recent call last)",
      "\u001b[0;32m<ipython-input-3-449dcad322a1>\u001b[0m in \u001b[0;36m<module>\u001b[0;34m()\u001b[0m\n\u001b[1;32m      1\u001b[0m \u001b[0;32mimport\u001b[0m \u001b[0msys\u001b[0m\u001b[0;34m\u001b[0m\u001b[0m\n\u001b[0;32m----> 2\u001b[0;31m \u001b[0;32mfrom\u001b[0m \u001b[0mPySide\u001b[0m \u001b[0;32mimport\u001b[0m \u001b[0mQtGui\u001b[0m\u001b[0;34m,\u001b[0m\u001b[0mQApplication\u001b[0m\u001b[0;34m\u001b[0m\u001b[0m\n\u001b[0m\u001b[1;32m      3\u001b[0m \u001b[0;32mfrom\u001b[0m \u001b[0mPySide\u001b[0m \u001b[0;32mimport\u001b[0m \u001b[0mQtCore\u001b[0m\u001b[0;34m\u001b[0m\u001b[0m\n\u001b[1;32m      4\u001b[0m \u001b[0;34m\u001b[0m\u001b[0m\n\u001b[1;32m      5\u001b[0m \u001b[0;32mif\u001b[0m \u001b[0m__name__\u001b[0m \u001b[0;34m==\u001b[0m \u001b[0;34m'__main__'\u001b[0m\u001b[0;34m:\u001b[0m\u001b[0;34m\u001b[0m\u001b[0m\n",
      "\u001b[0;31mImportError\u001b[0m: cannot import name QApplication"
     ]
    }
   ],
   "source": [
    "import sys\n",
    "from PySide import QtGui\n",
    "from PySide import QtCore\n",
    "from PySide.QtGui import QApplication\n",
    "\n",
    "if __name__ == '__main__':\n",
    "\n",
    "    myApp=QApplication.instance() # checks if QApplication already exists \n",
    "    \n",
    "    if not myApp: \n",
    "        myApp = QApplication(sys.argv)\n",
    "        \n",
    "    appLabel = QtGui.QLabel() # Create a Label \n",
    "    appLabel.setText(\"Hello, PySide!\")\n",
    "    appLabel.setAlignment(QtCore.Qt.AlignCenter)\n",
    "    corX, corY, width, height = 100, 100, 300, 200\n",
    "    appLabel.setGeometry(corX, corY, width, height)\n",
    "    appLabel.setWindowTitle('My Second Application')\n",
    "    appLabel.show() # Show the Label\n",
    "\n",
    "    myApp.exec_() # Execute the Application and Exit\n",
    "    sys.exit()"
   ]
  },
  {
   "cell_type": "markdown",
   "metadata": {},
   "source": [
    "## OOPでiconを表示するsimpleなアプリを作成せよ\n",
    "* OOPでかくこと"
   ]
  },
  {
   "cell_type": "code",
   "execution_count": 11,
   "metadata": {
    "collapsed": false
   },
   "outputs": [
    {
     "ename": "SystemExit",
     "evalue": "0",
     "output_type": "error",
     "traceback": [
      "An exception has occurred, use %tb to see the full traceback.\n",
      "\u001b[0;31mSystemExit\u001b[0m\u001b[0;31m:\u001b[0m 0\n"
     ]
    },
    {
     "name": "stderr",
     "output_type": "stream",
     "text": [
      "To exit: use 'exit', 'quit', or Ctrl-D.\n"
     ]
    }
   ],
   "source": [
    "import sys\n",
    "from PySide import QtGui\n",
    "from PySide.QtGui import QApplication\n",
    "\n",
    "class Example(QtGui.QWidget):\n",
    "    \n",
    "    def __init__(self):\n",
    "        #スーパークラスの初期化\n",
    "        super(Example, self).__init__()\n",
    "        \n",
    "        self.initUI()\n",
    "        \n",
    "    def initUI(self):\n",
    "        #All three methods have been inherited from the QtGui.QWidget class. \n",
    "        self.setGeometry(300, 300, 250, 150)\n",
    "        self.setWindowTitle('Icon')\n",
    "        self.setWindowIcon(QtGui.QIcon('pyside_logo.png'))        \n",
    "    \n",
    "        self.show()\n",
    "        \n",
    "def main():\n",
    "    myApp=QApplication.instance() # checks if QApplication already exists \n",
    "    if not myApp: # create QApplication if it doesnt exist \n",
    "        myApp = QApplication(sys.argv)\n",
    "    ex = Example()\n",
    "    sys.exit(myApp.exec_())\n",
    "\n",
    "\n",
    "if __name__ == '__main__':\n",
    "    main()"
   ]
  },
  {
   "cell_type": "markdown",
   "metadata": {},
   "source": [
    "### Explanation\n",
    "The three most important things in object oriented programming are classes, data and methods. Here we create a new class called Example. The Example class inherits from QtGui.QWidget class. This means that we must call two constructors. The first one for the Example class and the second one for the inherited class. The second one is called with the super() method."
   ]
  },
  {
   "cell_type": "markdown",
   "metadata": {},
   "source": [
    "## Buttonが一つあるアプリを作れ"
   ]
  },
  {
   "cell_type": "code",
   "execution_count": 18,
   "metadata": {
    "collapsed": false
   },
   "outputs": [
    {
     "ename": "SystemExit",
     "evalue": "0",
     "output_type": "error",
     "traceback": [
      "An exception has occurred, use %tb to see the full traceback.\n",
      "\u001b[0;31mSystemExit\u001b[0m\u001b[0;31m:\u001b[0m 0\n"
     ]
    },
    {
     "name": "stderr",
     "output_type": "stream",
     "text": [
      "To exit: use 'exit', 'quit', or Ctrl-D.\n"
     ]
    }
   ],
   "source": [
    "import sys\n",
    "from PySide import QtGui\n",
    "from PySide.QtGui import QApplication\n",
    "\n",
    "class Example(QtGui.QWidget):\n",
    "    \n",
    "    def __init__(self):\n",
    "        super(Example, self).__init__()\n",
    "        \n",
    "        self.initUI()\n",
    "        \n",
    "    def initUI(self):\n",
    "        #buttonは引数にQWidgetをとって親にしているぽい\n",
    "        btn = QtGui.QPushButton('Button', self)\n",
    "        btn.resize(btn.sizeHint()) #this method gives a recommended size for the button.\n",
    "        btn.move(50, 50) #windowの左上からのoffset。これないと左上にできる。       \n",
    "        \n",
    "        self.setGeometry(300, 300, 250, 150)\n",
    "        self.show()\n",
    "        \n",
    "def main():\n",
    "    \n",
    "    myApp=QApplication.instance() # checks if QApplication already exists \n",
    "    if not myApp: # create QApplication if it doesnt exist \n",
    "        myApp = QApplication(sys.argv)\n",
    "    ex = Example()\n",
    "    sys.exit(myApp.exec_())\n",
    "\n",
    "if __name__ == '__main__':\n",
    "    main()"
   ]
  },
  {
   "cell_type": "markdown",
   "metadata": {},
   "source": [
    "## widgetにマウス合わせると注釈出す機能をつけよう(Showing a tooltip)"
   ]
  },
  {
   "cell_type": "code",
   "execution_count": 19,
   "metadata": {
    "collapsed": false
   },
   "outputs": [
    {
     "ename": "SystemExit",
     "evalue": "0",
     "output_type": "error",
     "traceback": [
      "An exception has occurred, use %tb to see the full traceback.\n",
      "\u001b[0;31mSystemExit\u001b[0m\u001b[0;31m:\u001b[0m 0\n"
     ]
    },
    {
     "name": "stderr",
     "output_type": "stream",
     "text": [
      "To exit: use 'exit', 'quit', or Ctrl-D.\n"
     ]
    }
   ],
   "source": [
    "import sys\n",
    "from PySide import QtGui\n",
    "from PySide.QtGui import QApplication\n",
    "\n",
    "class Example(QtGui.QWidget):\n",
    "    \n",
    "    def __init__(self):\n",
    "        super(Example, self).__init__()\n",
    "        \n",
    "        self.initUI()\n",
    "        \n",
    "    def initUI(self):\n",
    "        #This static method sets a font used to render tooltips.\n",
    "        #We use a 10px SansSerif font.  \n",
    "        QtGui.QToolTip.setFont(QtGui.QFont('SansSerif', 10))\n",
    "        \n",
    "        self.setToolTip('This is a <b>QWidget</b> widget')\n",
    "        \n",
    "        btn = QtGui.QPushButton('Button', self)\n",
    "        btn.setToolTip('This is a <b>QPushButton</b> widget')\n",
    "        btn.resize(btn.sizeHint())\n",
    "        btn.move(50, 50)       \n",
    "        \n",
    "        self.setGeometry(300, 300, 250, 150)\n",
    "        self.setWindowTitle('Tooltips')    \n",
    "        self.show()\n",
    "        \n",
    "def main():\n",
    "    \n",
    "    myApp=QApplication.instance() # checks if QApplication already exists \n",
    "    if not myApp: # create QApplication if it doesnt exist \n",
    "        myApp = QApplication(sys.argv)\n",
    "    ex = Example()\n",
    "    sys.exit(myApp.exec_())\n",
    "\n",
    "if __name__ == '__main__':\n",
    "    main()"
   ]
  },
  {
   "cell_type": "markdown",
   "metadata": {},
   "source": [
    "## Closing a window\n",
    "jupyterでのアプリではうまく動かないが一応上げておく"
   ]
  },
  {
   "cell_type": "code",
   "execution_count": 21,
   "metadata": {
    "collapsed": false
   },
   "outputs": [
    {
     "ename": "SystemExit",
     "evalue": "0",
     "output_type": "error",
     "traceback": [
      "An exception has occurred, use %tb to see the full traceback.\n",
      "\u001b[0;31mSystemExit\u001b[0m\u001b[0;31m:\u001b[0m 0\n"
     ]
    },
    {
     "name": "stderr",
     "output_type": "stream",
     "text": [
      "To exit: use 'exit', 'quit', or Ctrl-D.\n"
     ]
    }
   ],
   "source": [
    "import sys\n",
    "from PySide import QtGui, QtCore\n",
    "from PySide.QtGui import QApplication\n",
    "\n",
    "class Example(QtGui.QWidget):\n",
    "    \n",
    "    def __init__(self):\n",
    "        super(Example, self).__init__()\n",
    "        \n",
    "        self.initUI()\n",
    "        \n",
    "    def initUI(self):               \n",
    "        \n",
    "        qbtn = QtGui.QPushButton('Quit', self)\n",
    "        qbtn.clicked.connect(QtCore.QCoreApplication.instance().quit)\n",
    "        qbtn.resize(qbtn.sizeHint())\n",
    "        qbtn.move(50, 50)       \n",
    "        \n",
    "        self.setGeometry(300, 300, 250, 150)\n",
    "        self.setWindowTitle('Quit button')    \n",
    "        self.show()\n",
    "        \n",
    "def main():\n",
    "    \n",
    "    myApp=QApplication.instance() # checks if QApplication already exists \n",
    "    if not myApp: # create QApplication if it doesnt exist \n",
    "        myApp = QApplication(sys.argv)\n",
    "    ex = Example()\n",
    "    sys.exit(myApp.exec_())\n",
    "\n",
    "\n",
    "if __name__ == '__main__':\n",
    "    main()"
   ]
  },
  {
   "cell_type": "markdown",
   "metadata": {
    "collapsed": true
   },
   "source": [
    "## アプリ終了の際にMessageBoxを表示して意思確認せよ"
   ]
  },
  {
   "cell_type": "code",
   "execution_count": 4,
   "metadata": {
    "collapsed": false
   },
   "outputs": [
    {
     "ename": "SystemExit",
     "evalue": "0",
     "output_type": "error",
     "traceback": [
      "An exception has occurred, use %tb to see the full traceback.\n",
      "\u001b[0;31mSystemExit\u001b[0m\u001b[0;31m:\u001b[0m 0\n"
     ]
    },
    {
     "name": "stderr",
     "output_type": "stream",
     "text": [
      "To exit: use 'exit', 'quit', or Ctrl-D.\n"
     ]
    }
   ],
   "source": [
    "import sys\n",
    "from PySide import QtGui\n",
    "from PySide.QtGui import QApplication\n",
    "\n",
    "class Example(QtGui.QWidget):\n",
    "    \n",
    "    def __init__(self):\n",
    "        super(Example, self).__init__()\n",
    "        \n",
    "        self.initUI()\n",
    "        \n",
    "    def initUI(self):               \n",
    "        \n",
    "        self.setGeometry(300, 300, 250, 150)        \n",
    "        self.setWindowTitle('Message box')    \n",
    "        self.show()\n",
    "        \n",
    "    def closeEvent(self, event):\n",
    "        \n",
    "        reply = QtGui.QMessageBox.question(self, 'Message',\n",
    "            \"Are you sure to quit?\", QtGui.QMessageBox.Yes | \n",
    "            QtGui.QMessageBox.No, QtGui.QMessageBox.No)\n",
    "\n",
    "        if reply == QtGui.QMessageBox.Yes:\n",
    "            event.accept()\n",
    "        else:\n",
    "            event.ignore()        \n",
    "        \n",
    "        \n",
    "def main():\n",
    "    \n",
    "    myApp=QApplication.instance() # checks if QApplication already exists \n",
    "    if not myApp: # create QApplication if it doesnt exist \n",
    "        myApp = QApplication(sys.argv)\n",
    "    ex = Example()\n",
    "    sys.exit(myApp.exec_())\n",
    "\n",
    "if __name__ == '__main__':\n",
    "    main()"
   ]
  },
  {
   "cell_type": "markdown",
   "metadata": {
    "collapsed": true
   },
   "source": [
    "### Explanation\n",
    "* If we close the QtGui.QWidget\n",
    "    * the QCloseEvent is generated. \n",
    "    * To modify the widget behaviour we need to reimplement the closeEvent() event handler. \n",
    "* replay = WQtGui.QMessageBox.question(self,first,second,third,last) \n",
    "    * we show a message box with two buttons. Yes and No. \n",
    "    * The first string appears on the titlebar. \n",
    "    * The second string is the message text displayed by the dialog. \n",
    "    * The third argument specifies the combination of buttons appearing in the dialog.\n",
    "    * The last parameter is the default button. \n",
    "    * The return value is stored in the reply variable."
   ]
  },
  {
   "cell_type": "markdown",
   "metadata": {},
   "source": [
    "## Centering window on the screen"
   ]
  },
  {
   "cell_type": "code",
   "execution_count": 1,
   "metadata": {
    "collapsed": false
   },
   "outputs": [
    {
     "ename": "SystemExit",
     "evalue": "0",
     "output_type": "error",
     "traceback": [
      "An exception has occurred, use %tb to see the full traceback.\n",
      "\u001b[0;31mSystemExit\u001b[0m\u001b[0;31m:\u001b[0m 0\n"
     ]
    },
    {
     "name": "stderr",
     "output_type": "stream",
     "text": [
      "To exit: use 'exit', 'quit', or Ctrl-D.\n"
     ]
    }
   ],
   "source": [
    "import sys\n",
    "from PySide import QtGui\n",
    "from PySide.QtGui import QApplication\n",
    "\n",
    "class Example(QtGui.QWidget):\n",
    "    \n",
    "    def __init__(self):\n",
    "        super(Example, self).__init__()\n",
    "        \n",
    "        self.initUI()\n",
    "        \n",
    "    def initUI(self):               \n",
    "        \n",
    "        self.resize(250, 150)\n",
    "        self.center()\n",
    "        \n",
    "        self.setWindowTitle('Center')    \n",
    "        self.show()\n",
    "        \n",
    "    def center(self):\n",
    "        #We get a rectangle specifying the geometry of the main window\n",
    "        qr = self.frameGeometry()\n",
    "        #We figure out the screen resolution of our monitor.\n",
    "        #And from this resolution, we get the center point. \n",
    "        cp = QtGui.QDesktopWidget().availableGeometry().center()\n",
    "        #ow we set the center of the rectangle to the center of the screen. \n",
    "        qr.moveCenter(cp)\n",
    "        #We move the top-left point of the application window to the top-left point of the qr rectangle\n",
    "        self.move(qr.topLeft())\n",
    "\n",
    "        \n",
    "def main():\n",
    "    \n",
    "    myApp=QApplication.instance() # checks if QApplication already exists \n",
    "    if not myApp: # create QApplication if it doesnt exist \n",
    "        myApp = QApplication(sys.argv)\n",
    "    ex = Example()\n",
    "    sys.exit(myApp.exec_())\n",
    "\n",
    "if __name__ == '__main__':\n",
    "    main()"
   ]
  },
  {
   "cell_type": "markdown",
   "metadata": {
    "collapsed": true
   },
   "source": [
    "# Menus and toolbars"
   ]
  },
  {
   "cell_type": "markdown",
   "metadata": {
    "collapsed": true
   },
   "source": [
    "## Status bar\n",
    " The statusbar is a widget that is used for displaying status information. "
   ]
  },
  {
   "cell_type": "markdown",
   "metadata": {
    "collapsed": true
   },
   "source": [
    "## Menubar\n",
    "なぜだかmenuが出てきてくれない。飛ばすことにする。"
   ]
  },
  {
   "cell_type": "code",
   "execution_count": 1,
   "metadata": {
    "collapsed": false
   },
   "outputs": [
    {
     "ename": "SystemExit",
     "evalue": "0",
     "output_type": "error",
     "traceback": [
      "An exception has occurred, use %tb to see the full traceback.\n",
      "\u001b[0;31mSystemExit\u001b[0m\u001b[0;31m:\u001b[0m 0\n"
     ]
    },
    {
     "name": "stderr",
     "output_type": "stream",
     "text": [
      "To exit: use 'exit', 'quit', or Ctrl-D.\n"
     ]
    }
   ],
   "source": [
    "\n",
    "import sys\n",
    "from PySide import QtGui\n",
    "from PySide.QtGui import QApplication\n",
    "\n",
    "class Example(QtGui.QMainWindow):\n",
    "    \n",
    "    def __init__(self):\n",
    "        super(Example, self).__init__()\n",
    "        \n",
    "        self.initUI()\n",
    "        \n",
    "    def initUI(self):               \n",
    "        \n",
    "#         exitAction = QtGui.QAction(QtGui.QIcon('exit.png'), '&Exit', self)\n",
    "#         exitAction.setShortcut('Ctrl+Q')\n",
    "#         exitAction.setStatusTip('Exit application')\n",
    "#         exitAction.triggered.connect(self.close)\n",
    "\n",
    "#         self.statusBar()\n",
    "\n",
    "#         menubar = self.menuBar()\n",
    "#         fileMenu = menubar.addMenu('&File')\n",
    "#         fileMenu.addAction(exitAction)\n",
    "        \n",
    "        self.myQMenuBar = QtGui.QMenuBar(self)\n",
    "        exitMenu = self.myQMenuBar.addMenu('File')\n",
    "        exitAction = QtGui.QAction('Exit', self)        \n",
    "        exitAction.triggered.connect(QtGui.qApp.quit)\n",
    "        exitMenu.addAction(exitAction)\n",
    "        \n",
    "        \n",
    "#         # メニューバー作成\n",
    "#         menubar = QtGui.QMenuBar()\n",
    "#         # メニュー作成\n",
    "#         file_menu = QtGui.QMenu('file', self)\n",
    "#         # アクション追加\n",
    "#         exit_action = file_menu.addAction('exit')\n",
    "#         # ショートカットを設定\n",
    "#         exit_action.setShortcut('Ctrl+Q')\n",
    "#         # 閉じるのアクションが発火したときはアプリを終了するように\n",
    "#         exit_action.triggered.connect(self.close)\n",
    "#         # メニューバーにメニューを追加\n",
    "#         menubar.addMenu(file_menu)\n",
    "#         # MainWindow にメニューバーを設定\n",
    "#         self.setMenuBar(menubar)\n",
    "        \n",
    "        self.setGeometry(300, 300, 250, 150)\n",
    "        self.setWindowTitle('Menubar')    \n",
    "        self.show()\n",
    "        \n",
    "def main():\n",
    "    \n",
    "    myApp=QApplication.instance() # checks if QApplication already exists \n",
    "    if not myApp: # create QApplication if it doesnt exist \n",
    "        myApp = QApplication(sys.argv)\n",
    "    ex = Example()\n",
    "    sys.exit(myApp.exec_())\n",
    "\n",
    "if __name__ == '__main__':\n",
    "    main()"
   ]
  },
  {
   "cell_type": "markdown",
   "metadata": {},
   "source": [
    "## Set the toolbar which has an exit action, closes the application. \n",
    "* create an action\n",
    "    * we create a eixt action object. \n",
    "    * The object has a label, icon and a shorcut. \n",
    "    * A close method of the QtGui.QMainWindow is connected to the triggered signal. \n",
    "* create a toolbar\n",
    "    * create a toolbar\n",
    "    * set the action on the toolbar"
   ]
  },
  {
   "cell_type": "code",
   "execution_count": 8,
   "metadata": {
    "collapsed": false
   },
   "outputs": [
    {
     "ename": "SystemExit",
     "evalue": "0",
     "output_type": "error",
     "traceback": [
      "An exception has occurred, use %tb to see the full traceback.\n",
      "\u001b[0;31mSystemExit\u001b[0m\u001b[0;31m:\u001b[0m 0\n"
     ]
    },
    {
     "name": "stderr",
     "output_type": "stream",
     "text": [
      "To exit: use 'exit', 'quit', or Ctrl-D.\n"
     ]
    }
   ],
   "source": [
    "\n",
    "import sys\n",
    "from PySide import QtGui\n",
    "from PySide.QtGui import QApplication\n",
    "\n",
    "class Example(QtGui.QMainWindow):\n",
    "    \n",
    "    def __init__(self):\n",
    "        super(Example, self).__init__()\n",
    "        \n",
    "        self.initUI()\n",
    "        \n",
    "    def initUI(self):               \n",
    "        \n",
    "        exitAction = QtGui.QAction(QtGui.QIcon('exit.png'), 'Exit', self)\n",
    "        exitAction.setShortcut('Ctrl+Q')\n",
    "        exitAction.triggered.connect(self.close)\n",
    "        \n",
    "        self.toolbar = self.addToolBar('Exit')\n",
    "        self.toolbar.addAction(exitAction)\n",
    "        \n",
    "        self.setGeometry(300, 300, 350, 250)\n",
    "        self.setWindowTitle('Toolbar')    \n",
    "        self.show()\n",
    "         \n",
    "def main():\n",
    "    \n",
    "    myApp=QApplication.instance() # checks if QApplication already exists \n",
    "    if not myApp: # create QApplication if it doesnt exist \n",
    "        myApp = QApplication(sys.argv)\n",
    "    ex = Example()\n",
    "    sys.exit(myApp.exec_())\n",
    "\n",
    "if __name__ == '__main__':\n",
    "    main()       \n"
   ]
  },
  {
   "cell_type": "markdown",
   "metadata": {
    "collapsed": true
   },
   "source": [
    "# Layout management in PySide\n",
    "* Absolute positioning\n",
    "* Box layout\n",
    "* Grid layout"
   ]
  },
  {
   "cell_type": "markdown",
   "metadata": {
    "collapsed": true
   },
   "source": [
    "## Absolute positioning"
   ]
  },
  {
   "cell_type": "markdown",
   "metadata": {
    "collapsed": true
   },
   "source": [
    "## Box layout\n",
    "* Create a horizontal box\n",
    "    * We create a horizontal box layout.  : hbox = QtGui.QHBoxLayout()\n",
    "    * Add a stretch factor : hbox.addStrech(1)\n",
    "    * Add bottuons in the box : hbox.addWidget(okbutton), hbox.addWidget(cancelbutton)\n",
    "    * The stretch adds a stretchable space before the two buttons. \n",
    "* Put the horizontal layout into a vertical one\n",
    "    * create a vertical box : vbox = QVBoxLayout()\n",
    "    * Add a streath factor : vobx.addStrech(1)\n",
    "    * Add the horizontal box in the vertical box : vbox.addLayout(hbox)\n",
    "    * The stretch factor in the vertical box will push the horizontal box to the bottom of the window. \n",
    "* Layout the vertical box\n",
    "    * self.setLayout(vbox) "
   ]
  },
  {
   "cell_type": "code",
   "execution_count": 1,
   "metadata": {
    "collapsed": false
   },
   "outputs": [
    {
     "ename": "SystemExit",
     "evalue": "0",
     "output_type": "error",
     "traceback": [
      "An exception has occurred, use %tb to see the full traceback.\n",
      "\u001b[0;31mSystemExit\u001b[0m\u001b[0;31m:\u001b[0m 0\n"
     ]
    },
    {
     "name": "stderr",
     "output_type": "stream",
     "text": [
      "To exit: use 'exit', 'quit', or Ctrl-D.\n"
     ]
    }
   ],
   "source": [
    "\n",
    "import sys\n",
    "from PySide import QtGui\n",
    "from PySide.QtGui import QApplication\n",
    "\n",
    "class Example(QtGui.QWidget):\n",
    "    \n",
    "    def __init__(self):\n",
    "        super(Example, self).__init__()\n",
    "        \n",
    "        self.initUI()\n",
    "        \n",
    "    def initUI(self):\n",
    "        \n",
    "        okButton = QtGui.QPushButton(\"OK\")\n",
    "        cancelButton = QtGui.QPushButton(\"Cancel\")\n",
    "\n",
    "        hbox = QtGui.QHBoxLayout()\n",
    "        hbox.addStretch(1)\n",
    "        hbox.addWidget(okButton)\n",
    "        hbox.addWidget(cancelButton)\n",
    "\n",
    "        vbox = QtGui.QVBoxLayout()\n",
    "        vbox.addStretch(1)\n",
    "        vbox.addLayout(hbox)\n",
    "        \n",
    "        self.setLayout(vbox)    \n",
    "        \n",
    "        self.setGeometry(300, 300, 300, 150)\n",
    "        self.setWindowTitle('Buttons')    \n",
    "        self.show()\n",
    "        \n",
    "        \n",
    "def main():\n",
    "    \n",
    "    myApp=QApplication.instance() # checks if QApplication already exists \n",
    "    if not myApp: # create QApplication if it doesnt exist \n",
    "        myApp = QApplication(sys.argv)\n",
    "    ex = Example()\n",
    "    sys.exit(myApp.exec_())\n",
    "\n",
    "if __name__ == '__main__':\n",
    "    main()       \n"
   ]
  },
  {
   "cell_type": "markdown",
   "metadata": {},
   "source": [
    "## Grid Layout"
   ]
  },
  {
   "cell_type": "markdown",
   "metadata": {},
   "source": [
    "### Basic grid layout"
   ]
  },
  {
   "cell_type": "code",
   "execution_count": 5,
   "metadata": {
    "collapsed": false
   },
   "outputs": [
    {
     "ename": "SystemExit",
     "evalue": "0",
     "output_type": "error",
     "traceback": [
      "An exception has occurred, use %tb to see the full traceback.\n",
      "\u001b[0;31mSystemExit\u001b[0m\u001b[0;31m:\u001b[0m 0\n"
     ]
    },
    {
     "name": "stderr",
     "output_type": "stream",
     "text": [
      "To exit: use 'exit', 'quit', or Ctrl-D.\n"
     ]
    }
   ],
   "source": [
    "import sys\n",
    "from PySide import QtGui\n",
    "from PySide.QtGui import QApplication\n",
    "\n",
    "class Example(QtGui.QWidget):\n",
    "    \n",
    "    def __init__(self):\n",
    "        super(Example, self).__init__()\n",
    "        \n",
    "        self.initUI()\n",
    "        \n",
    "    def initUI(self):\n",
    "        \n",
    "        grid = QtGui.QGridLayout()\n",
    "        \n",
    "        row_num = 4\n",
    "        column_num = 2\n",
    "        \n",
    "        for i in range(row_num):\n",
    "            for j in range(column_num):\n",
    "                btn_name = \"[{},{}]\".format(i,j) \n",
    "                button = QtGui.QPushButton(btn_name)\n",
    "                grid.addWidget(button, i, j)\n",
    "\n",
    "        self.setLayout(grid)   \n",
    "        \n",
    "        self.move(300, 150)\n",
    "        self.setWindowTitle('grid example')    \n",
    "        self.show()\n",
    "        \n",
    "def main():\n",
    "    \n",
    "    myApp=QApplication.instance() # checks if QApplication already exists \n",
    "    if not myApp: # create QApplication if it doesnt exist \n",
    "        myApp = QApplication(sys.argv)\n",
    "    ex = Example()\n",
    "    sys.exit(myApp.exec_())\n",
    "\n",
    "if __name__ == '__main__':\n",
    "    main()              "
   ]
  },
  {
   "cell_type": "markdown",
   "metadata": {},
   "source": [
    "### We can provide row span and column span of the widget"
   ]
  },
  {
   "cell_type": "code",
   "execution_count": 6,
   "metadata": {
    "collapsed": false
   },
   "outputs": [
    {
     "ename": "SystemExit",
     "evalue": "0",
     "output_type": "error",
     "traceback": [
      "An exception has occurred, use %tb to see the full traceback.\n",
      "\u001b[0;31mSystemExit\u001b[0m\u001b[0;31m:\u001b[0m 0\n"
     ]
    },
    {
     "name": "stderr",
     "output_type": "stream",
     "text": [
      "To exit: use 'exit', 'quit', or Ctrl-D.\n"
     ]
    }
   ],
   "source": [
    "\n",
    "import sys\n",
    "from PySide import QtGui\n",
    "from PySide.QtGui import QApplication\n",
    "\n",
    "class Example(QtGui.QWidget):\n",
    "    \n",
    "    def __init__(self):\n",
    "        super(Example, self).__init__()\n",
    "        \n",
    "        self.initUI()\n",
    "        \n",
    "    def initUI(self):\n",
    "        \n",
    "        title = QtGui.QLabel('Title')\n",
    "        author = QtGui.QLabel('Author')\n",
    "        review = QtGui.QLabel('Review')\n",
    "        #create a line editor\n",
    "        titleEdit = QtGui.QLineEdit()\n",
    "        authorEdit = QtGui.QLineEdit()\n",
    "        reviewEdit = QtGui.QTextEdit()\n",
    "\n",
    "        grid = QtGui.QGridLayout()\n",
    "        grid.setSpacing(10)\n",
    "\n",
    "        grid.addWidget(title, 1, 0)\n",
    "        grid.addWidget(titleEdit, 1, 1)\n",
    "\n",
    "        grid.addWidget(author, 2, 0)\n",
    "        grid.addWidget(authorEdit, 2, 1)\n",
    "        \n",
    "        #row span\n",
    "        grid.addWidget(review, 3, 0)\n",
    "        grid.addWidget(reviewEdit, 3, 1, 5, 1)\n",
    "        \n",
    "        self.setLayout(grid) \n",
    "        \n",
    "        self.setGeometry(300, 300, 350, 300)\n",
    "        self.setWindowTitle('Review')    \n",
    "        self.show()\n",
    "        \n",
    "def main():\n",
    "    \n",
    "    myApp=QApplication.instance() # checks if QApplication already exists \n",
    "    if not myApp: # create QApplication if it doesnt exist \n",
    "        myApp = QApplication(sys.argv)\n",
    "    ex = Example()\n",
    "    sys.exit(myApp.exec_())\n",
    "\n",
    "if __name__ == '__main__':\n",
    "    main()     "
   ]
  },
  {
   "cell_type": "markdown",
   "metadata": {},
   "source": [
    "# Signal and Slot"
   ]
  },
  {
   "cell_type": "markdown",
   "metadata": {},
   "source": [
    "## Create a simple Slider and LCD widget "
   ]
  },
  {
   "cell_type": "code",
   "execution_count": 8,
   "metadata": {
    "collapsed": false
   },
   "outputs": [
    {
     "ename": "SystemExit",
     "evalue": "0",
     "output_type": "error",
     "traceback": [
      "An exception has occurred, use %tb to see the full traceback.\n",
      "\u001b[0;31mSystemExit\u001b[0m\u001b[0;31m:\u001b[0m 0\n"
     ]
    },
    {
     "name": "stderr",
     "output_type": "stream",
     "text": [
      "To exit: use 'exit', 'quit', or Ctrl-D.\n"
     ]
    }
   ],
   "source": [
    "import sys\n",
    "from PySide import QtGui, QtCore\n",
    "from PySide.QtGui import QApplication\n",
    "\n",
    "class Example(QtGui.QWidget):\n",
    "    \n",
    "    def __init__(self):\n",
    "        super(Example, self).__init__()\n",
    "        \n",
    "        self.initUI()\n",
    "        \n",
    "    def initUI(self):\n",
    "        \n",
    "        lcd = QtGui.QLCDNumber(self)\n",
    "        sld = QtGui.QSlider(QtCore.Qt.Horizontal, self)\n",
    "\n",
    "        vbox = QtGui.QVBoxLayout()\n",
    "        vbox.addWidget(lcd)\n",
    "        vbox.addWidget(sld)\n",
    "\n",
    "        self.setLayout(vbox)\n",
    "        #connect a valueChanged signal of the slider to the display slot of the lcd number. \n",
    "        sld.valueChanged.connect(lcd.display)\n",
    "        \n",
    "        self.setGeometry(300, 300, 250, 150)\n",
    "        self.setWindowTitle('Signal & slot')\n",
    "        self.show()\n",
    "        \n",
    "def main():\n",
    "    \n",
    "    myApp=QApplication.instance() # checks if QApplication already exists \n",
    "    if not myApp: # create QApplication if it doesnt exist \n",
    "        myApp = QApplication(sys.argv)\n",
    "    ex = Example()\n",
    "    sys.exit(myApp.exec_())\n",
    "\n",
    "if __name__ == '__main__':\n",
    "    main()            \n"
   ]
  },
  {
   "cell_type": "markdown",
   "metadata": {},
   "source": [
    "## Create a simple key event hander widget"
   ]
  },
  {
   "cell_type": "code",
   "execution_count": 10,
   "metadata": {
    "collapsed": false
   },
   "outputs": [
    {
     "name": "stdout",
     "output_type": "stream",
     "text": [
      "pressed 69\n",
      "pressed 68\n",
      "pressed 70\n",
      "pressed 82\n",
      "pressed 84\n",
      "pressed 89\n",
      "pressed 16777216\n"
     ]
    },
    {
     "ename": "SystemExit",
     "evalue": "0",
     "output_type": "error",
     "traceback": [
      "An exception has occurred, use %tb to see the full traceback.\n",
      "\u001b[0;31mSystemExit\u001b[0m\u001b[0;31m:\u001b[0m 0\n"
     ]
    },
    {
     "name": "stderr",
     "output_type": "stream",
     "text": [
      "To exit: use 'exit', 'quit', or Ctrl-D.\n"
     ]
    }
   ],
   "source": [
    "import sys\n",
    "from PySide import QtGui, QtCore\n",
    "from PySide.QtGui import QApplication\n",
    "\n",
    "class Example(QtGui.QWidget):\n",
    "    \n",
    "    def __init__(self):\n",
    "        super(Example, self).__init__()\n",
    "        \n",
    "        self.initUI()\n",
    "        \n",
    "    def initUI(self):      \n",
    "        \n",
    "        self.setGeometry(300, 300, 250, 150)\n",
    "        self.setWindowTitle('Event handler')\n",
    "        self.show()\n",
    "    \n",
    "    #key perss event handler\n",
    "    def keyPressEvent(self, e):\n",
    "        print(\"pressed {}\".format(e.key()))\n",
    "        if e.key() == QtCore.Qt.Key_Escape:\n",
    "            self.close()\n",
    "\n",
    "def main():\n",
    "    myApp=QApplication.instance() # checks if QApplication already exists \n",
    "    if not myApp: # create QApplication if it doesnt exist \n",
    "        myApp = QApplication(sys.argv)\n",
    "    ex = Example()\n",
    "    sys.exit(myApp.exec_())\n",
    "if __name__ == '__main__':\n",
    "    main()            \n"
   ]
  },
  {
   "cell_type": "markdown",
   "metadata": {},
   "source": [
    "## Create a simple app which have two bottun with Event sender "
   ]
  },
  {
   "cell_type": "code",
   "execution_count": 11,
   "metadata": {
    "collapsed": false
   },
   "outputs": [
    {
     "ename": "SystemExit",
     "evalue": "0",
     "output_type": "error",
     "traceback": [
      "An exception has occurred, use %tb to see the full traceback.\n",
      "\u001b[0;31mSystemExit\u001b[0m\u001b[0;31m:\u001b[0m 0\n"
     ]
    },
    {
     "name": "stderr",
     "output_type": "stream",
     "text": [
      "To exit: use 'exit', 'quit', or Ctrl-D.\n"
     ]
    }
   ],
   "source": [
    "import sys\n",
    "from PySide import QtGui, QtCore\n",
    "from PySide.QtGui import QApplication\n",
    "\n",
    "class Example(QtGui.QMainWindow):\n",
    "    \n",
    "    def __init__(self):\n",
    "        super(Example, self).__init__()\n",
    "        \n",
    "        self.initUI()\n",
    "        \n",
    "    def initUI(self):      \n",
    "\n",
    "        btn1 = QtGui.QPushButton(\"Button 1\", self)\n",
    "        btn1.move(30, 50)\n",
    "\n",
    "        btn2 = QtGui.QPushButton(\"Button 2\", self)\n",
    "        btn2.move(150, 50)\n",
    "      \n",
    "        btn1.clicked.connect(self.buttonClicked)            \n",
    "        btn2.clicked.connect(self.buttonClicked)\n",
    "        \n",
    "        self.statusBar()\n",
    "        \n",
    "        self.setGeometry(300, 300, 290, 150)\n",
    "        self.setWindowTitle('Event sender')\n",
    "        self.show()\n",
    "        \n",
    "    def buttonClicked(self):\n",
    "      \n",
    "        sender = self.sender()\n",
    "        self.statusBar().showMessage(sender.text() + ' was pressed')\n",
    "        \n",
    "\n",
    "def main():\n",
    "    myApp=QApplication.instance() # checks if QApplication already exists \n",
    "    if not myApp: # create QApplication if it doesnt exist \n",
    "        myApp = QApplication(sys.argv)\n",
    "    ex = Example()\n",
    "    sys.exit(myApp.exec_())\n",
    "if __name__ == '__main__':\n",
    "    main()            \n"
   ]
  },
  {
   "cell_type": "markdown",
   "metadata": {},
   "source": [
    "## Emitting Signals"
   ]
  },
  {
   "cell_type": "code",
   "execution_count": 15,
   "metadata": {
    "collapsed": false
   },
   "outputs": [
    {
     "ename": "SystemExit",
     "evalue": "0",
     "output_type": "error",
     "traceback": [
      "An exception has occurred, use %tb to see the full traceback.\n",
      "\u001b[0;31mSystemExit\u001b[0m\u001b[0;31m:\u001b[0m 0\n"
     ]
    },
    {
     "name": "stderr",
     "output_type": "stream",
     "text": [
      "To exit: use 'exit', 'quit', or Ctrl-D.\n"
     ]
    }
   ],
   "source": [
    "import sys\n",
    "from PySide import QtGui, QtCore\n",
    "from PySide.QtGui import QApplication\n",
    "\n",
    "class Communicate(QtCore.QObject):\n",
    "    \n",
    "    closeApp = QtCore.Signal()\n",
    "\n",
    "class Example(QtGui.QMainWindow):\n",
    "    \n",
    "    def __init__(self):\n",
    "        super(Example, self).__init__()\n",
    "        \n",
    "        self.initUI()\n",
    "        \n",
    "    def initUI(self):      \n",
    "\n",
    "        self.c = Communicate()\n",
    "        # We connect a close() slot of the QtGui.QMainWindow to the closeApp signal. \n",
    "        self.c.closeApp.connect(self.close)       \n",
    "        \n",
    "        self.setGeometry(300, 300, 290, 150)\n",
    "        self.setWindowTitle('Emit signal')\n",
    "        self.show()\n",
    "        \n",
    "    def mousePressEvent(self, event):\n",
    "        \n",
    "        self.c.closeApp.emit()\n",
    "\n",
    "\n",
    "def main():\n",
    "    myApp=QApplication.instance() # checks if QApplication already exists \n",
    "    if not myApp: # create QApplication if it doesnt exist \n",
    "        myApp = QApplication(sys.argv)\n",
    "    ex = Example()\n",
    "    sys.exit(myApp.exec_())\n",
    "if __name__ == '__main__':\n",
    "    main()            \n"
   ]
  },
  {
   "cell_type": "code",
   "execution_count": 14,
   "metadata": {
    "collapsed": false
   },
   "outputs": [
    {
     "ename": "SystemExit",
     "evalue": "0",
     "output_type": "error",
     "traceback": [
      "An exception has occurred, use %tb to see the full traceback.\n",
      "\u001b[0;31mSystemExit\u001b[0m\u001b[0;31m:\u001b[0m 0\n"
     ]
    },
    {
     "name": "stderr",
     "output_type": "stream",
     "text": [
      "To exit: use 'exit', 'quit', or Ctrl-D.\n"
     ]
    }
   ],
   "source": [
    "import sys\n",
    "from PySide import QtGui, QtCore\n",
    "from PySide.QtGui import QApplication\n",
    "\n",
    "\n",
    "\n",
    "def main():\n",
    "    myApp=QApplication.instance() # checks if QApplication already exists \n",
    "    if not myApp: # create QApplication if it doesnt exist \n",
    "        myApp = QApplication(sys.argv)\n",
    "    ex = Example()\n",
    "    sys.exit(myApp.exec_())\n",
    "if __name__ == '__main__':\n",
    "    main()            \n"
   ]
  },
  {
   "cell_type": "markdown",
   "metadata": {},
   "source": [
    "# Dialogs\n",
    "* input dialog\n",
    "* QtGui.QColorDialog\n",
    "* QtGui.QFontDialog\n",
    "* QtGui.QFileDialog"
   ]
  },
  {
   "cell_type": "markdown",
   "metadata": {},
   "source": [
    "## create an app with an input dialog"
   ]
  },
  {
   "cell_type": "code",
   "execution_count": 16,
   "metadata": {
    "collapsed": false
   },
   "outputs": [
    {
     "ename": "SystemExit",
     "evalue": "0",
     "output_type": "error",
     "traceback": [
      "An exception has occurred, use %tb to see the full traceback.\n",
      "\u001b[0;31mSystemExit\u001b[0m\u001b[0;31m:\u001b[0m 0\n"
     ]
    },
    {
     "name": "stderr",
     "output_type": "stream",
     "text": [
      "To exit: use 'exit', 'quit', or Ctrl-D.\n"
     ]
    }
   ],
   "source": [
    "import sys\n",
    "from PySide import QtGui, QtCore\n",
    "from PySide.QtGui import QApplication\n",
    "\n",
    "class Example(QtGui.QWidget):\n",
    "    \n",
    "    def __init__(self):\n",
    "        super(Example, self).__init__()\n",
    "        \n",
    "        self.initUI()\n",
    "        \n",
    "    def initUI(self):      \n",
    "\n",
    "        self.btn = QtGui.QPushButton('Dialog', self)\n",
    "        self.btn.move(20, 20)\n",
    "        self.btn.clicked.connect(self.showDialog)\n",
    "        \n",
    "        self.le = QtGui.QLineEdit(self)\n",
    "        self.le.move(130, 22)\n",
    "        \n",
    "        self.setGeometry(300, 300, 290, 150)\n",
    "        self.setWindowTitle('Input dialog')\n",
    "        self.show()\n",
    "        \n",
    "    def showDialog(self):\n",
    "        #This line displays the input dialog. \n",
    "        #The first string is a dialog title, the second one is a message within the dialog.\n",
    "        #The dialog returns the entered text and a boolean value. \n",
    "        text, ok = QtGui.QInputDialog.getText(self, 'Input Dialog', \n",
    "            'Enter your name:')\n",
    "        #If we clicked the ok button, the boolean value would be true, false otherwise. \n",
    "        if ok:\n",
    "            self.le.setText(str(text))\n",
    "\n",
    "def main():\n",
    "    myApp=QApplication.instance() # checks if QApplication already exists \n",
    "    if not myApp: # create QApplication if it doesnt exist \n",
    "        myApp = QApplication(sys.argv)\n",
    "    ex = Example()\n",
    "    sys.exit(myApp.exec_())\n",
    "if __name__ == '__main__':\n",
    "    main()            \n"
   ]
  },
  {
   "cell_type": "markdown",
   "metadata": {},
   "source": [
    "## File dialog "
   ]
  },
  {
   "cell_type": "code",
   "execution_count": 20,
   "metadata": {
    "collapsed": false
   },
   "outputs": [
    {
     "ename": "SystemExit",
     "evalue": "0",
     "output_type": "error",
     "traceback": [
      "An exception has occurred, use %tb to see the full traceback.\n",
      "\u001b[0;31mSystemExit\u001b[0m\u001b[0;31m:\u001b[0m 0\n"
     ]
    },
    {
     "name": "stderr",
     "output_type": "stream",
     "text": [
      "To exit: use 'exit', 'quit', or Ctrl-D.\n"
     ]
    }
   ],
   "source": [
    "import sys\n",
    "from PySide import QtGui, QtCore\n",
    "from PySide.QtGui import QApplication\n",
    "\n",
    "class Example(QtGui.QMainWindow):\n",
    "    \n",
    "    def __init__(self):\n",
    "        super(Example, self).__init__()\n",
    "        \n",
    "        self.initUI()\n",
    "        \n",
    "    def initUI(self):      \n",
    "\n",
    "        self.textEdit = QtGui.QTextEdit()\n",
    "        self.setCentralWidget(self.textEdit)\n",
    "        self.statusBar()\n",
    "\n",
    "        openFile = QtGui.QAction(QtGui.QIcon('open.png'), 'Open', self)\n",
    "        openFile.setShortcut('Ctrl+O')\n",
    "        openFile.setStatusTip('Open new File')\n",
    "        openFile.triggered.connect(self.showDialog)\n",
    "\n",
    "        menubar = self.menuBar()\n",
    "        fileMenu = menubar.addMenu('&File')\n",
    "        fileMenu.addAction(openFile)       \n",
    "        \n",
    "        self.setGeometry(30, 30, 350, 300)\n",
    "        self.setWindowTitle('File dialog')\n",
    "        self.show()\n",
    "        \n",
    "    def showDialog(self):\n",
    "        #The first string in the getOpenFileName() method is the caption. \n",
    "        #The second string specifies the dialog working directory. \n",
    "        #The method returns the selected file name and a filter.\n",
    "        #We are only interested in the file name. \n",
    "        fname, _ = QtGui.QFileDialog.getOpenFileName(self, 'Open file',\n",
    "                    '/home')\n",
    "        \n",
    "        f = open(fname, 'r')\n",
    "        \n",
    "        with f:\n",
    "            data = f.read()\n",
    "            self.textEdit.setText(data)\n",
    "                                \n",
    "\n",
    "def main():\n",
    "    myApp=QApplication.instance() # checks if QApplication already exists \n",
    "    if not myApp: # create QApplication if it doesnt exist \n",
    "        myApp = QApplication(sys.argv)\n",
    "    ex = Example()\n",
    "    sys.exit(myApp.exec_())\n",
    "if __name__ == '__main__':\n",
    "    main()            \n"
   ]
  },
  {
   "cell_type": "markdown",
   "metadata": {},
   "source": [
    "# PySide Widgets"
   ]
  },
  {
   "cell_type": "markdown",
   "metadata": {},
   "source": [
    "## QtGui.QCheckBox"
   ]
  },
  {
   "cell_type": "code",
   "execution_count": null,
   "metadata": {
    "collapsed": true
   },
   "outputs": [],
   "source": [
    "import sys\n",
    "from PySide import QtGui, QtCore\n",
    "from PySide.QtGui import QApplication\n",
    "\n",
    "\n",
    "\n",
    "def main():\n",
    "    myApp=QApplication.instance() # checks if QApplication already exists \n",
    "    if not myApp: # create QApplication if it doesnt exist \n",
    "        myApp = QApplication(sys.argv)\n",
    "    ex = Example()\n",
    "    sys.exit(myApp.exec_())\n",
    "if __name__ == '__main__':\n",
    "    main()            \n"
   ]
  },
  {
   "cell_type": "markdown",
   "metadata": {},
   "source": [
    "## ToggleButton"
   ]
  },
  {
   "cell_type": "code",
   "execution_count": null,
   "metadata": {
    "collapsed": true
   },
   "outputs": [],
   "source": [
    "import sys\n",
    "from PySide import QtGui, QtCore\n",
    "from PySide.QtGui import QApplication\n",
    "\n",
    "\n",
    "\n",
    "def main():\n",
    "    myApp=QApplication.instance() # checks if QApplication already exists \n",
    "    if not myApp: # create QApplication if it doesnt exist \n",
    "        myApp = QApplication(sys.argv)\n",
    "    ex = Example()\n",
    "    sys.exit(myApp.exec_())\n",
    "if __name__ == '__main__':\n",
    "    main()            \n"
   ]
  },
  {
   "cell_type": "markdown",
   "metadata": {},
   "source": [
    "## QtGui.QSlider"
   ]
  },
  {
   "cell_type": "code",
   "execution_count": null,
   "metadata": {
    "collapsed": true
   },
   "outputs": [],
   "source": [
    "import sys\n",
    "from PySide import QtGui, QtCore\n",
    "from PySide.QtGui import QApplication\n",
    "\n",
    "\n",
    "\n",
    "def main():\n",
    "    myApp=QApplication.instance() # checks if QApplication already exists \n",
    "    if not myApp: # create QApplication if it doesnt exist \n",
    "        myApp = QApplication(sys.argv)\n",
    "    ex = Example()\n",
    "    sys.exit(myApp.exec_())\n",
    "if __name__ == '__main__':\n",
    "    main()            \n"
   ]
  },
  {
   "cell_type": "markdown",
   "metadata": {},
   "source": [
    "## QtGui.QCalendarWidget"
   ]
  },
  {
   "cell_type": "code",
   "execution_count": 23,
   "metadata": {
    "collapsed": false
   },
   "outputs": [
    {
     "ename": "SystemExit",
     "evalue": "0",
     "output_type": "error",
     "traceback": [
      "An exception has occurred, use %tb to see the full traceback.\n",
      "\u001b[0;31mSystemExit\u001b[0m\u001b[0;31m:\u001b[0m 0\n"
     ]
    },
    {
     "name": "stderr",
     "output_type": "stream",
     "text": [
      "To exit: use 'exit', 'quit', or Ctrl-D.\n"
     ]
    }
   ],
   "source": [
    "import sys\n",
    "from PySide import QtGui, QtCore\n",
    "from PySide.QtGui import QApplication\n",
    "\n",
    "class Example(QtGui.QWidget):\n",
    "    \n",
    "    def __init__(self):\n",
    "        super(Example, self).__init__()\n",
    "        \n",
    "        self.initUI()\n",
    "        \n",
    "    def initUI(self):      \n",
    "\n",
    "        cal = QtGui.QCalendarWidget(self)\n",
    "        cal.setGridVisible(True)\n",
    "        cal.move(20, 20)\n",
    "        #If we select a date from the widget, a clicked[QtCore.QDate] signal is emitted. \n",
    "        #We connect this signal to the user defined showDate() method. \n",
    "        cal.clicked[QtCore.QDate].connect(self.showDate)\n",
    "        \n",
    "        self.lbl = QtGui.QLabel(self)\n",
    "        date = cal.selectedDate()\n",
    "        self.lbl.setText(date.toString())\n",
    "        self.lbl.move(130, 260)\n",
    "        \n",
    "        self.setGeometry(30, 30, 350, 300)\n",
    "        self.setWindowTitle('Calendar')\n",
    "        self.show()\n",
    "        \n",
    "    def showDate(self, date):     \n",
    "        self.lbl.setText(date.toString())\n",
    "\n",
    "def main():\n",
    "    myApp=QApplication.instance() # checks if QApplication already exists \n",
    "    if not myApp: # create QApplication if it doesnt exist \n",
    "        myApp = QApplication(sys.argv)\n",
    "    ex = Example()\n",
    "    sys.exit(myApp.exec_())\n",
    "if __name__ == '__main__':\n",
    "    main()            \n"
   ]
  },
  {
   "cell_type": "markdown",
   "metadata": {},
   "source": [
    "## QtGui.QPixmap\n",
    "よくわからん..."
   ]
  },
  {
   "cell_type": "code",
   "execution_count": 25,
   "metadata": {
    "collapsed": false
   },
   "outputs": [
    {
     "ename": "SystemExit",
     "evalue": "0",
     "output_type": "error",
     "traceback": [
      "An exception has occurred, use %tb to see the full traceback.\n",
      "\u001b[0;31mSystemExit\u001b[0m\u001b[0;31m:\u001b[0m 0\n"
     ]
    },
    {
     "name": "stderr",
     "output_type": "stream",
     "text": [
      "To exit: use 'exit', 'quit', or Ctrl-D.\n"
     ]
    }
   ],
   "source": [
    "import sys \n",
    "from PySide import QtGui, QtCore\n",
    "from PySide.QtGui import QApplication\n",
    "\n",
    "class Example(QtGui.QWidget):\n",
    "    \n",
    "    def __init__(self):\n",
    "        super(Example, self).__init__()\n",
    "        \n",
    "        self.initUI()\n",
    "        \n",
    "    def initUI(self):      \n",
    "\n",
    "        hbox = QtGui.QHBoxLayout(self)\n",
    "        pixmap = QtGui.QPixmap(\"redrock.png\")\n",
    "\n",
    "        lbl = QtGui.QLabel(self)\n",
    "        lbl.setPixmap(pixmap)\n",
    "\n",
    "        hbox.addWidget(lbl)\n",
    "        self.setLayout(hbox)\n",
    "        \n",
    "        self.setGeometry(30, 30, 280, 170)\n",
    "        self.setWindowTitle('Red Rock')\n",
    "        self.show()       \n",
    "\n",
    "def main():\n",
    "    myApp=QApplication.instance() # checks if QApplication already exists \n",
    "    if not myApp: # create QApplication if it doesnt exist \n",
    "        myApp = QApplication(sys.argv)\n",
    "    ex = Example()\n",
    "    sys.exit(myApp.exec_())\n",
    "if __name__ == '__main__':\n",
    "    main()            \n"
   ]
  },
  {
   "cell_type": "markdown",
   "metadata": {},
   "source": [
    "## Line Editor\n",
    "* create a line editor\n",
    "* put a writed string in a label"
   ]
  },
  {
   "cell_type": "code",
   "execution_count": 26,
   "metadata": {
    "collapsed": false
   },
   "outputs": [
    {
     "ename": "SystemExit",
     "evalue": "0",
     "output_type": "error",
     "traceback": [
      "An exception has occurred, use %tb to see the full traceback.\n",
      "\u001b[0;31mSystemExit\u001b[0m\u001b[0;31m:\u001b[0m 0\n"
     ]
    },
    {
     "name": "stderr",
     "output_type": "stream",
     "text": [
      "To exit: use 'exit', 'quit', or Ctrl-D.\n"
     ]
    }
   ],
   "source": [
    "import sys\n",
    "from PySide import QtGui, QtCore\n",
    "from PySide.QtGui import QApplication\n",
    "\n",
    "class Example(QtGui.QWidget):\n",
    "    \n",
    "    def __init__(self):\n",
    "        super(Example, self).__init__()\n",
    "        \n",
    "        self.initUI()\n",
    "        \n",
    "    def initUI(self):      \n",
    "\n",
    "        self.lbl = QtGui.QLabel(self)\n",
    "        qle = QtGui.QLineEdit(self)\n",
    "        \n",
    "        qle.move(60, 100)\n",
    "        self.lbl.move(60, 40)\n",
    "\n",
    "        qle.textChanged[str].connect(self.onChanged)\n",
    "        \n",
    "        self.setGeometry(30, 30, 280, 170)\n",
    "        self.setWindowTitle('QtGui.QLineEdit')\n",
    "        self.show()\n",
    "        \n",
    "    def onChanged(self, text):\n",
    "        \n",
    "        self.lbl.setText(text)\n",
    "        self.lbl.adjustSize()   \n",
    "\n",
    "def main():\n",
    "    myApp=QApplication.instance() # checks if QApplication already exists \n",
    "    if not myApp: # create QApplication if it doesnt exist \n",
    "        myApp = QApplication(sys.argv)\n",
    "    ex = Example()\n",
    "    sys.exit(myApp.exec_())\n",
    "if __name__ == '__main__':\n",
    "    main()            \n"
   ]
  },
  {
   "cell_type": "markdown",
   "metadata": {},
   "source": [
    "## QtGui.QSplitter"
   ]
  },
  {
   "cell_type": "markdown",
   "metadata": {},
   "source": [
    "## QtGui.QComboBox"
   ]
  },
  {
   "cell_type": "code",
   "execution_count": null,
   "metadata": {
    "collapsed": true
   },
   "outputs": [],
   "source": [
    "import sys\n",
    "from PySide import QtGui, QtCore\n",
    "from PySide.QtGui import QApplication\n",
    "\n",
    "\n",
    "\n",
    "def main():\n",
    "    myApp=QApplication.instance() # checks if QApplication already exists \n",
    "    if not myApp: # create QApplication if it doesnt exist \n",
    "        myApp = QApplication(sys.argv)\n",
    "    ex = Example()\n",
    "    sys.exit(myApp.exec_())\n",
    "if __name__ == '__main__':\n",
    "    main()            \n"
   ]
  },
  {
   "cell_type": "markdown",
   "metadata": {},
   "source": [
    "# Drawing in PySide"
   ]
  },
  {
   "cell_type": "code",
   "execution_count": 27,
   "metadata": {
    "collapsed": false
   },
   "outputs": [
    {
     "ename": "SystemExit",
     "evalue": "0",
     "output_type": "error",
     "traceback": [
      "An exception has occurred, use %tb to see the full traceback.\n",
      "\u001b[0;31mSystemExit\u001b[0m\u001b[0;31m:\u001b[0m 0\n"
     ]
    },
    {
     "name": "stderr",
     "output_type": "stream",
     "text": [
      "To exit: use 'exit', 'quit', or Ctrl-D.\n"
     ]
    }
   ],
   "source": [
    "import sys\n",
    "from PySide import QtGui, QtCore\n",
    "from PySide.QtGui import QApplication\n",
    "\n",
    "class Communicate(QtCore.QObject):\n",
    "    \n",
    "    updateBW = QtCore.Signal(int)\n",
    "\n",
    "class BurningWidget(QtGui.QWidget):\n",
    "  \n",
    "    def __init__(self):      \n",
    "        super(BurningWidget, self).__init__()\n",
    "        \n",
    "        self.initUI()\n",
    "        \n",
    "    def initUI(self):\n",
    "        \n",
    "        self.setMinimumSize(1, 30)\n",
    "        self.value = 75\n",
    "        self.num = [75, 150, 225, 300, 375, 450, 525, 600, 675]        \n",
    "\n",
    "\n",
    "    def setValue(self, value):\n",
    "\n",
    "        self.value = value\n",
    "\n",
    "\n",
    "    def paintEvent(self, e):\n",
    "      \n",
    "        qp = QtGui.QPainter()\n",
    "        qp.begin(self)\n",
    "        self.drawWidget(qp)\n",
    "        qp.end()\n",
    "      \n",
    "      \n",
    "    def drawWidget(self, qp):\n",
    "      \n",
    "        font = QtGui.QFont('Serif', 7, QtGui.QFont.Light)\n",
    "        qp.setFont(font)\n",
    "\n",
    "        size = self.size()\n",
    "        w = size.width()\n",
    "        h = size.height()\n",
    "\n",
    "        step = int(round(w / 10.0))\n",
    "\n",
    "\n",
    "        till = int(((w / 750.0) * self.value))\n",
    "        full = int(((w / 750.0) * 700))\n",
    "\n",
    "        if self.value >= 700:\n",
    "            qp.setPen(QtGui.QColor(255, 255, 255))\n",
    "            qp.setBrush(QtGui.QColor(255, 255, 184))\n",
    "            qp.drawRect(0, 0, full, h)\n",
    "            qp.setPen(QtGui.QColor(255, 175, 175))\n",
    "            qp.setBrush(QtGui.QColor(255, 175, 175))\n",
    "            qp.drawRect(full, 0, till-full, h)\n",
    "        else:\n",
    "            qp.setPen(QtGui.QColor(255, 255, 255))\n",
    "            qp.setBrush(QtGui.QColor(255, 255, 184))\n",
    "            qp.drawRect(0, 0, till, h)\n",
    "\n",
    "\n",
    "        pen = QtGui.QPen(QtGui.QColor(20, 20, 20), 1, \n",
    "            QtCore.Qt.SolidLine)\n",
    "            \n",
    "        qp.setPen(pen)\n",
    "        qp.setBrush(QtCore.Qt.NoBrush)\n",
    "        qp.drawRect(0, 0, w-1, h-1)\n",
    "\n",
    "        j = 0\n",
    "\n",
    "        for i in range(step, 10*step, step):\n",
    "          \n",
    "            qp.drawLine(i, 0, i, 5)\n",
    "            metrics = qp.fontMetrics()\n",
    "            fw = metrics.width(str(self.num[j]))\n",
    "            qp.drawText(i-fw/2, h/2, str(self.num[j]))\n",
    "            j = j + 1\n",
    "\n",
    "class Example(QtGui.QWidget):\n",
    "    \n",
    "    def __init__(self):\n",
    "        super(Example, self).__init__()\n",
    "        \n",
    "        self.initUI()\n",
    "        \n",
    "    def initUI(self):      \n",
    "\n",
    "        sld = QtGui.QSlider(QtCore.Qt.Horizontal, self)\n",
    "        sld.setFocusPolicy(QtCore.Qt.NoFocus)\n",
    "        sld.setRange(1, 750)\n",
    "        sld.setValue(75)\n",
    "        sld.setGeometry(30, 40, 150, 30)\n",
    "\n",
    "        self.c = Communicate()\n",
    "        self.wid = BurningWidget()\n",
    "        self.c.updateBW[int].connect(self.wid.setValue)        \n",
    "\n",
    "        sld.valueChanged[int].connect(self.changeValue)\n",
    "        hbox = QtGui.QHBoxLayout()\n",
    "        hbox.addWidget(self.wid)\n",
    "        vbox = QtGui.QVBoxLayout()\n",
    "        vbox.addStretch(1)\n",
    "        vbox.addLayout(hbox)\n",
    "        self.setLayout(vbox)\n",
    "        \n",
    "        self.setGeometry(30, 30, 390, 210)\n",
    "        self.setWindowTitle('Burning widget')\n",
    "        self.show()\n",
    "        \n",
    "    def changeValue(self, value):\n",
    "             \n",
    "        self.c.updateBW.emit(value)\n",
    "        self.wid.repaint()\n",
    "        \n",
    "\n",
    "def main():\n",
    "    myApp=QApplication.instance() # checks if QApplication already exists \n",
    "    if not myApp: # create QApplication if it doesnt exist \n",
    "        myApp = QApplication(sys.argv)\n",
    "    ex = Example()\n",
    "    sys.exit(myApp.exec_())\n",
    "if __name__ == '__main__':\n",
    "    main()            \n"
   ]
  },
  {
   "cell_type": "code",
   "execution_count": null,
   "metadata": {
    "collapsed": true
   },
   "outputs": [],
   "source": [
    "import sys\n",
    "from PySide import QtGui, QtCore\n",
    "from PySide.QtGui import QApplication\n",
    "\n",
    "\n",
    "\n",
    "def main():\n",
    "    myApp=QApplication.instance() # checks if QApplication already exists \n",
    "    if not myApp: # create QApplication if it doesnt exist \n",
    "        myApp = QApplication(sys.argv)\n",
    "    ex = Example()\n",
    "    sys.exit(myApp.exec_())\n",
    "if __name__ == '__main__':\n",
    "    main()            \n"
   ]
  },
  {
   "cell_type": "code",
   "execution_count": null,
   "metadata": {
    "collapsed": true
   },
   "outputs": [],
   "source": [
    "import sys\n",
    "from PySide import QtGui, QtCore\n",
    "from PySide.QtGui import QApplication\n",
    "\n",
    "\n",
    "\n",
    "def main():\n",
    "    myApp=QApplication.instance() # checks if QApplication already exists \n",
    "    if not myApp: # create QApplication if it doesnt exist \n",
    "        myApp = QApplication(sys.argv)\n",
    "    ex = Example()\n",
    "    sys.exit(myApp.exec_())\n",
    "if __name__ == '__main__':\n",
    "    main()            \n"
   ]
  },
  {
   "cell_type": "code",
   "execution_count": null,
   "metadata": {
    "collapsed": true
   },
   "outputs": [],
   "source": []
  },
  {
   "cell_type": "code",
   "execution_count": null,
   "metadata": {
    "collapsed": true
   },
   "outputs": [],
   "source": []
  },
  {
   "cell_type": "code",
   "execution_count": null,
   "metadata": {
    "collapsed": true
   },
   "outputs": [],
   "source": []
  },
  {
   "cell_type": "code",
   "execution_count": 3,
   "metadata": {
    "collapsed": false
   },
   "outputs": [
    {
     "name": "stdout",
     "output_type": "stream",
     "text": [
      "Closing Window...\n"
     ]
    }
   ],
   "source": [
    "#アイコンの生成と表示_QIcon, QWidget.setWindowIcon(QIcon)\n",
    "#アイコンの状態設定と表示_QIcon.pixmap, Label.setPixmap\n",
    "#マウスオーバーでの説明表示_QWidget.setToolTip\n",
    "# \n",
    "\n",
    "import sys, time\n",
    "from PySide.QtGui import QApplication, QWidget, QIcon,QFont,QToolTip,QLabel,QMessageBox\n",
    "\n",
    "# Our main window class\n",
    "class SampleWindow(QWidget):\n",
    "    # Constructor function\n",
    "    def __init__(self):\n",
    "        super(SampleWindow, self).__init__()\n",
    "        \n",
    "        self.initGUI()\n",
    "\n",
    "    def initGUI(self):\n",
    "        self.setWindowTitle(\"Icon Sample\")\n",
    "        self.setGeometry(300, 300, 200, 150)\n",
    "        QToolTip.setFont(QFont(\"Decorative\", 8, QFont.Bold))\n",
    "        self.setToolTip('Our Main Window')\n",
    " \n",
    "    # Function to set Icon\n",
    "        appIcon = QIcon('pyside_logo.png')\n",
    "        self.setWindowIcon(appIcon)\n",
    "        self.setIconModes()\n",
    "        self.show()\n",
    "    def setIconModes(self):\n",
    "        #詳しくは\n",
    "        #https://srinikom.github.io/pyside-docs/PySide/QtGui/QIcon.html\n",
    "        #ラベルの中にアイコンを書き込むという設定にしている\n",
    "        myIcon1 = QIcon('pyside_logo.png')\n",
    "        myLabel1 = QLabel('sample', self)\n",
    "        pixmap1 = myIcon1.pixmap(50, 50, QIcon.Active, QIcon.On)\n",
    "        myLabel1.setPixmap(pixmap1)\n",
    "        myLabel1.setToolTip('Active Icon')\n",
    "        myLabel1.show()\n",
    "\n",
    "        myIcon2 = QIcon('pyside_logo.png')\n",
    "        myLabel2 = QLabel('sample', self)\n",
    "        pixmap2 = myIcon2.pixmap(50, 50, QIcon.Disabled, QIcon.Off)\n",
    "        myLabel2.setPixmap(pixmap2)\n",
    "        myLabel2.setToolTip('Disabled Icon')\n",
    "        myLabel2.move(50, 0)\n",
    "        myLabel2.show()\n",
    "\n",
    "        myIcon3 = QIcon('pyside_logo.png')\n",
    "        myLabel3 = QLabel('sample', self)\n",
    "        pixmap3 = myIcon3.pixmap(50, 50, QIcon.Selected, QIcon.On)\n",
    "        myLabel3.setPixmap(pixmap3)\n",
    "        myLabel3.setToolTip('Selected Icon')\n",
    "        myLabel3.move(100, 0)\n",
    "        myLabel3.show()\n",
    "\n",
    "if __name__ == '__main__':\n",
    "    # Exception Handling\n",
    "    try:\n",
    "        myApp=QApplication.instance() # checks if QApplication already exists \n",
    "        if not myApp: # create QApplication if it doesnt exist \n",
    "            myApp = QApplication(sys.argv)\n",
    "        myWindow = SampleWindow()\n",
    "        myApp.exec_()\n",
    "        sys.exit(0)\n",
    "    except NameError:\n",
    "        print(\"Name Error:\", sys.exc_info()[1])\n",
    "    except SystemExit:\n",
    "        print(\"Closing Window...\")\n",
    "    except Exception:\n",
    "        print(sys.exc_info()[1])\n"
   ]
  },
  {
   "cell_type": "code",
   "execution_count": 2,
   "metadata": {
    "collapsed": false
   },
   "outputs": [
    {
     "name": "stdout",
     "output_type": "stream",
     "text": [
      "Closing Window...\n"
     ]
    }
   ],
   "source": [
    "#ボタンの設置_QPushButton\n",
    "#質問windowの表示_QMessageBox.question\n",
    "\n",
    "import sys, time\n",
    "from PySide.QtGui import QApplication, QWidget, QIcon,QFont,QToolTip,QMessageBox,QPushButton\n",
    "# from PySide.QtCore import *\n",
    "\n",
    "# Our main window class\n",
    "class SampleWindow(QWidget):\n",
    "    # Constructor function\n",
    "    def __init__(self):\n",
    "        super(SampleWindow, self).__init__()\n",
    "        \n",
    "        self.initGUI()\n",
    "\n",
    "    def initGUI(self):\n",
    "        self.setWindowTitle(\"Icon Sample\")\n",
    "        self.setGeometry(300, 300, 200, 150)\n",
    "        QToolTip.setFont(QFont(\"Decorative\", 8, QFont.Bold))\n",
    "        self.setToolTip('Our Main Window')\n",
    " \n",
    "    # Function to set Icon\n",
    "        appIcon = QIcon('pyside_logo.png')\n",
    "        self.setWindowIcon(appIcon)\n",
    "        self.setButton()\n",
    "        self.show()\n",
    "    \n",
    "    def setButton(self):\n",
    "        \"\"\" Function to add a quit button\n",
    "        \"\"\"\n",
    "        myButton = QPushButton('Quit', self) #親widgetは後ろにつけている。\n",
    "        myButton.move(50, 100)\n",
    "        myButton.clicked.connect(self.quitApp)\n",
    "#         myButton.clicked.connect(QCoreApplication.instance().quit)\n",
    "        \n",
    "    #Function to Quit App that uses MsgApp\n",
    "    def quitApp(self):\n",
    "        response = self.msgApp(\"Confirmation\",\"This will quit the application. Do you want to Continue?\")\n",
    "        \n",
    "        if response == \"Y\":\n",
    "            #これがうまく働かず、フリーズしてしまう。\n",
    "            #jupyter notebookだからかもしれない。その通りだった。しかしspyderでipythonだとそもそも動かない。。なぜか。。\n",
    "            myApp.quit()\n",
    "        else:\n",
    "            pass\n",
    "    \n",
    "# Function to show Dialog box with provided Title and Message\n",
    "    def msgApp(self,title,msg):\n",
    "        userInfo = QMessageBox.question(self,title,msg,QMessageBox.Yes | QMessageBox.No)\n",
    "        if userInfo == QMessageBox.Yes:\n",
    "            return \"Y\"\n",
    "        if userInfo == QMessageBox.No:\n",
    "            return \"N\"\n",
    "\n",
    "if __name__ == '__main__':\n",
    "    # Exception Handling\n",
    "    try:\n",
    "        myApp=QApplication.instance() # checks if QApplication already exists \n",
    "        if not myApp: # create QApplication if it doesnt exist \n",
    "            myApp = QApplication(sys.argv)\n",
    "        myWindow = SampleWindow()\n",
    "        myApp.exec_()\n",
    "        sys.exit(0)\n",
    "    except NameError:\n",
    "        print(\"Name Error:\", sys.exc_info()[1])\n",
    "    except SystemExit:\n",
    "        print(\"Closing Window...\")\n",
    "    except Exception:\n",
    "        print(sys.exc_info()[1])"
   ]
  },
  {
   "cell_type": "code",
   "execution_count": 8,
   "metadata": {
    "collapsed": false
   },
   "outputs": [
    {
     "name": "stdout",
     "output_type": "stream",
     "text": [
      "Closing Window...\n"
     ]
    }
   ],
   "source": [
    "#表示するウインドウをディスプレイの真ん中にさせる自作関数_位置に関する情報取得\n",
    "#about windowを表示させる_QMessageBox.about\n",
    "\n",
    "import sys, time\n",
    "from PySide.QtGui import QApplication, QWidget, QIcon,QFont,QToolTip,QMessageBox,QPushButton\n",
    "# Our main window class\n",
    "class SampleWindow(QWidget):\n",
    "    # Constructor function\n",
    "    def __init__(self):\n",
    "        super(SampleWindow, self).__init__()\n",
    "        self.initGUI()\n",
    "\n",
    "    def initGUI(self):\n",
    "        self.setWindowTitle(\"Icon Sample\")\n",
    "        self.setGeometry(300, 300, 200, 150)\n",
    "        \n",
    "        #これどこに置くのが適当なのだろうか。。\n",
    "        self.center()\n",
    "        self.setAboutButton()\n",
    "        self.show()\n",
    "        \n",
    "    def center(self):\n",
    "        \"\"\" Function to center the application\n",
    "        \"\"\"\n",
    "        qRect = self.frameGeometry()\n",
    "        centerPoint = QDesktopWidget().availableGeometry().center()\n",
    "        qRect.moveCenter(centerPoint)\n",
    "        self.move(qRect.topLeft())\n",
    "        \n",
    "    def setAboutButton(self):\n",
    "        \"\"\" Function to set About Button\n",
    "        \"\"\"\n",
    "        self.aboutButton = QPushButton(\"About\", self)\n",
    "        self.aboutButton.move(100, 100)\n",
    "        self.aboutButton.clicked.connect(self.showAbout)\n",
    "\n",
    "    def showAbout(self):\n",
    "        \"\"\" Function to show About Box\n",
    "        \"\"\"\n",
    "        QMessageBox.about(self.aboutButton, \"About PySide\",\n",
    "               \"PySide is a cross-platform tool for generating GUI Programs.\")    \n",
    "\n",
    "if __name__ == '__main__':\n",
    "    # Exception Handling\n",
    "    try:\n",
    "        myApp=QApplication.instance() # checks if QApplication already exists \n",
    "        if not myApp: # create QApplication if it doesnt exist \n",
    "            myApp = QApplication(sys.argv)\n",
    "        myWindow = SampleWindow()\n",
    "        myApp.exec_()\n",
    "        sys.exit(0)\n",
    "    except NameError:\n",
    "        print(\"Name Error:\", sys.exc_info()[1])\n",
    "    except SystemExit:\n",
    "        print(\"Closing Window...\")\n",
    "    except Exception:\n",
    "        print(sys.exc_info()[1])"
   ]
  },
  {
   "cell_type": "raw",
   "metadata": {},
   "source": [
    "## Chapter3. Main Windows and Layout Management\n",
    "“a menu bar, toolbars, a status bar, a central widget, and optional dock widgets.”"
   ]
  },
  {
   "cell_type": "markdown",
   "metadata": {},
   "source": [
    "<img  src=\"mainwindowlayout.png\"/>"
   ]
  },
  {
   "cell_type": "code",
   "execution_count": 1,
   "metadata": {
    "collapsed": false
   },
   "outputs": [
    {
     "name": "stdout",
     "output_type": "stream",
     "text": [
      "Closing Window...\n"
     ]
    }
   ],
   "source": [
    "# Import required modules\n",
    "import sys, time\n",
    "from PySide.QtGui import QMainWindow,QApplication\n",
    "\n",
    "# Our main window class\n",
    "class MainWindow(QMainWindow):\n",
    "    # Constructor function\n",
    "    def __init__(self):\n",
    "        super(MainWindow,self).__init__()\n",
    "        self.initGUI()\n",
    "\n",
    "    def initGUI(self):\n",
    "        self.setWindowTitle(\"Main Window\")\n",
    "        self.setGeometry(300, 250, 400, 300)\n",
    "        self.show()\n",
    "\n",
    "if __name__ == '__main__':\n",
    "    # Exception Handling\n",
    "    try:\n",
    "        myApp=QApplication.instance() # checks if QApplication already exists \n",
    "        if not myApp: # create QApplication if it doesnt exist \n",
    "            myApp = QApplication(sys.argv)\n",
    "        mainWindow = MainWindow()\n",
    "        myApp.exec_()\n",
    "        sys.exit(0)\n",
    "\n",
    "    except NameError:\n",
    "        print(\"Name Error:\", sys.exc_info()[1])\n",
    "    except SystemExit:\n",
    "        print(\"Closing Window...\")"
   ]
  },
  {
   "cell_type": "code",
   "execution_count": 6,
   "metadata": {
    "collapsed": false
   },
   "outputs": [
    {
     "name": "stdout",
     "output_type": "stream",
     "text": [
      "Closing Window...\n"
     ]
    }
   ],
   "source": [
    "#ステータスバーの設置\n",
    "# Import required modules\n",
    "import sys, time\n",
    "from PySide.QtGui import QMainWindow,QApplication,QStatusBar\n",
    "\n",
    "# Our main window class\n",
    "class MainWindow(QMainWindow):\n",
    "    # Constructor function\n",
    "    def __init__(self):\n",
    "        super(MainWindow,self).__init__()\n",
    "        self.initGUI()\n",
    "        self.CreateStatusBar()\n",
    "\n",
    "    def initGUI(self):\n",
    "        self.setWindowTitle(\"Main Window\")\n",
    "        self.setGeometry(300, 250, 400, 300)\n",
    "        self.show()\n",
    "    \n",
    "    def CreateStatusBar(self):\n",
    "        self.myStatusBar = QStatusBar()\n",
    "        self.myStatusBar.showMessage('Ready', 3000)\n",
    "        self.setStatusBar(self.myStatusBar)\n",
    "\n",
    "if __name__ == '__main__':\n",
    "    # Exception Handling\n",
    "    try:\n",
    "        myApp=QApplication.instance() # checks if QApplication already exists \n",
    "        if not myApp: # create QApplication if it doesnt exist \n",
    "            myApp = QApplication(sys.argv)\n",
    "        mainWindow = MainWindow()\n",
    "        myApp.exec_()\n",
    "        sys.exit(0)\n",
    "\n",
    "    except NameError:\n",
    "        print(\"Name Error:\", sys.exc_info()[1])\n",
    "    except SystemExit:\n",
    "        print(\"Closing Window...\")"
   ]
  },
  {
   "cell_type": "code",
   "execution_count": 8,
   "metadata": {
    "collapsed": false
   },
   "outputs": [
    {
     "name": "stdout",
     "output_type": "stream",
     "text": [
      "Closing Window...\n"
     ]
    }
   ],
   "source": [
    "#進捗示すステータスバーがを設置\n",
    "# Import required modules\n",
    "import sys, time\n",
    "from PySide.QtGui import *\n",
    "from PySide.QtCore import *\n",
    "\n",
    "# Our main window class\n",
    "class MainWindow(QMainWindow):\n",
    "    # Constructor function\n",
    "    def __init__(self):\n",
    "        super(MainWindow,self).__init__()\n",
    "        self.initGUI()\n",
    "\n",
    "\n",
    "    def initGUI(self):\n",
    "        self.setWindowTitle(\"Main Window\")\n",
    "        self.setGeometry(300, 250, 400, 300)\n",
    "        self.statusLabel = QLabel('Showing Progress')\n",
    "        self.CreateProgessBar()\n",
    "        self.CreateStatusBar()\n",
    "        self.show()\n",
    "\n",
    "    def CreateProgessBar(self):\n",
    "        self.progressBar = QProgressBar()\n",
    "        self.progressBar.setMinimum(0)\n",
    "        self.progressBar.setMaximum(100)\n",
    "\n",
    "    # Function to create the status bar\n",
    "    def CreateStatusBar(self):\n",
    "        self.myStatusBar = QStatusBar()\n",
    "        #self.progressBar.setValue(0)\n",
    "        self.myStatusBar.addWidget(self.statusLabel, 1)\n",
    "        self.myStatusBar.addWidget(self.progressBar, 2)\n",
    "        self.setStatusBar(self.myStatusBar)\n",
    "\n",
    "    # Function to show progress\n",
    "    def ShowProgress(self,progress):\n",
    "        self.progressBar.setValue(progress)\n",
    "        if progress == 100:\n",
    "            self.statusLabel.setText('Ready')\n",
    "            return\n",
    "        \n",
    "        \n",
    "        \n",
    "if __name__ == '__main__':\n",
    "    # Exception Handling\n",
    "    try:\n",
    "        myApp=QApplication.instance() # checks if QApplication already exists \n",
    "        if not myApp: # create QApplication if it doesnt exist \n",
    "            myApp = QApplication(sys.argv)\n",
    "        mainWindow = MainWindow()\n",
    "        #Pretend that a file download is in Progress\n",
    "        filedownload = 0\n",
    "        while(filedownload <= 100):\n",
    "             mainWindow.ShowProgress(filedownload)\n",
    "             filedownload = filedownload + 20\n",
    "             time.sleep(1)\n",
    "        myApp.exec_()\n",
    "        sys.exit(0)\n",
    "    except NameError:\n",
    "        print(\"Name Error:\", sys.exc_info()[1])\n",
    "    except SystemExit:\n",
    "        print(\"Closing Window...\")\n",
    "    except Exception:\n",
    "        print(sys.exc_info()[1])\n"
   ]
  },
  {
   "cell_type": "code",
   "execution_count": 75,
   "metadata": {
    "collapsed": false
   },
   "outputs": [
    {
     "name": "stdout",
     "output_type": "stream",
     "text": [
      "abc\n",
      "あいう\n",
      "bcd\n",
      "123\n",
      "0.0\n",
      "0.0\n",
      "0.0\n",
      "0.0\n",
      "<PySide.QtGui.QTextBlock.iterator object at 0x1082e4488>\n",
      "Closing Window...\n"
     ]
    }
   ],
   "source": [
    "# Import required modules\n",
    "import sys, time\n",
    "from PySide.QtGui import *\n",
    "from PySide.QtCore import *\n",
    "\n",
    "# Our main window class\n",
    "class MainWindow(QMainWindow):\n",
    "    # Constructor function\n",
    "    def __init__(self):\n",
    "        super(MainWindow,self).__init__()\n",
    "        self.initGUI()\n",
    "\n",
    "\n",
    "    def initGUI(self):\n",
    "        self.setWindowTitle(\"A Simple Text Editor\")\n",
    "        self.setGeometry(300, 250, 400, 300)\n",
    "        self.myStatusBar = QStatusBar()\n",
    "        self.setStatusBar(self.myStatusBar)\n",
    "        self.myStatusBar.showMessage('Ready', 10000)\n",
    "        self.SetupComponents()\n",
    "        self.show()\n",
    "\n",
    "    def SetupComponents(self):\n",
    "#         textEdit = QTextEdit()\n",
    "        textEdit = QPlainTextEdit()\n",
    "#         textEdit.setFontPointSize(32)\n",
    "        textEdit.setPlainText(u'abc\\nあいう\\nbcd\\n123')\n",
    "        qtext = textEdit.document()\n",
    "        block1 = qtext.begin()\n",
    "        block2 = block1.next()\n",
    "        block3 = block2.next()\n",
    "        block4 = block3.next()\n",
    "        print(block1.text())\n",
    "        print(block2.text())\n",
    "        print(block3.text())\n",
    "        print(block4.text())\n",
    "        print(block2.blockFormat().topMargin())\n",
    "        print(block2.blockFormat().bottomMargin())\n",
    "        print(block1.blockFormat().bottomMargin())\n",
    "\n",
    "        #これだと変更できてない　しかも全部ゼロだし。。これ、mbpのretina特有かも。spyderと同じ症状だし\n",
    "        #まあ治ると嬉しいけど、今は必須ではない。\n",
    "        tbf = QTextBlockFormat()\n",
    "        tbf.setTopMargin(20)\n",
    "        print(block2.blockFormat().topMargin())\n",
    "        n = qtext.clone()\n",
    "        nn = n.begin()\n",
    "        new_qtext = n.createObject(tbf)\n",
    "        block1_1=nn.begin()\n",
    "        print(block1_1)\n",
    "        textEdit.setPlainText(u'abc')\n",
    "        textEdit.setDocument(n)\n",
    "\n",
    "\n",
    "        \n",
    "    \n",
    "        self.setCentralWidget(textEdit)\n",
    "        \n",
    "if __name__ == '__main__':\n",
    "    # Exception Handling\n",
    "    try:\n",
    "        myApp=QApplication.instance() # checks if QApplication already exists \n",
    "        if not myApp: # create QApplication if it doesnt exist \n",
    "            myApp = QApplication(sys.argv)\n",
    "        mainWindow = MainWindow()\n",
    "        myApp.exec_()\n",
    "        sys.exit(0)\n",
    "    except NameError:\n",
    "        print(\"Name Error:\", sys.exc_info()[1])\n",
    "    except SystemExit:\n",
    "        print(\"Closing Window...\")\n",
    "    except Exception:\n",
    "        print(sys.exc_info()[1])\n"
   ]
  },
  {
   "cell_type": "code",
   "execution_count": 71,
   "metadata": {
    "collapsed": false
   },
   "outputs": [
    {
     "ename": "SyntaxError",
     "evalue": "invalid syntax (<ipython-input-71-33b12443b4fa>, line 2)",
     "output_type": "error",
     "traceback": [
      "\u001b[0;36m  File \u001b[0;32m\"<ipython-input-71-33b12443b4fa>\"\u001b[0;36m, line \u001b[0;32m2\u001b[0m\n\u001b[0;31m    QTextBlockFormat.\u001b[0m\n\u001b[0m                     ^\u001b[0m\n\u001b[0;31mSyntaxError\u001b[0m\u001b[0;31m:\u001b[0m invalid syntax\n"
     ]
    }
   ],
   "source": [
    "from PySide.QtGui import QTextBlockFormat\n",
    "QTextBlockFormat."
   ]
  },
  {
   "cell_type": "code",
   "execution_count": 33,
   "metadata": {
    "collapsed": false
   },
   "outputs": [
    {
     "name": "stdout",
     "output_type": "stream",
     "text": [
      "1\n",
      "2\n"
     ]
    }
   ],
   "source": [
    "print '1\\n2'"
   ]
  },
  {
   "cell_type": "code",
   "execution_count": null,
   "metadata": {
    "collapsed": true
   },
   "outputs": [],
   "source": [
    "QTextBlockFormat"
   ]
  }
 ],
 "metadata": {
  "kernelspec": {
   "display_name": "Python 2",
   "language": "python",
   "name": "python2"
  },
  "language_info": {
   "codemirror_mode": {
    "name": "ipython",
    "version": 2
   },
   "file_extension": ".py",
   "mimetype": "text/x-python",
   "name": "python",
   "nbconvert_exporter": "python",
   "pygments_lexer": "ipython2",
   "version": "2.7.11"
  },
  "toc": {
   "toc_cell": true,
   "toc_number_sections": true,
   "toc_section_display": "block",
   "toc_threshold": 6,
   "toc_window_display": true
  },
  "toc_position": {
   "height": "435px",
   "left": "827.467px",
   "right": "55.5333px",
   "top": "171px",
   "width": "344px"
  }
 },
 "nbformat": 4,
 "nbformat_minor": 0
}
